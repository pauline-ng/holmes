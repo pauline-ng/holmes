{
 "cells": [
  {
   "cell_type": "markdown",
   "metadata": {},
   "source": [
    "## Say Hello"
   ]
  },
  {
   "cell_type": "code",
   "execution_count": 4,
   "metadata": {},
   "outputs": [
    {
     "name": "stdout",
     "output_type": "stream",
     "text": [
      "Hello\n"
     ]
    }
   ],
   "source": [
    "# hover over [ ] on the left-hand side. It will change to a play button, press it\n",
    "print (\"Hello\")"
   ]
  },
  {
   "cell_type": "markdown",
   "metadata": {},
   "source": [
    "## Download files needed to run exercises\n",
    "\n",
    "You **must** run the step below to do the other exercises. It downloads the input files."
   ]
  },
  {
   "cell_type": "code",
   "execution_count": 7,
   "metadata": {},
   "outputs": [
    {
     "name": "stdout",
     "output_type": "stream",
     "text": [
      "Downloaded pics/asst_manager/asst_manager.png\n",
      "Downloaded pics/asst_manager/john_clay_beard.png\n",
      "Downloaded pics/blonde/blonde1.jpg\n",
      "Downloaded pics/blonde/blonde10.jpg\n",
      "Downloaded pics/blonde/blonde2.jpg\n",
      "Downloaded pics/blonde/blonde3.jpg\n",
      "Downloaded pics/blonde/blonde4.jpg\n",
      "Downloaded pics/blonde/blonde5.jpg\n",
      "Downloaded pics/blonde/blonde6.jpg\n",
      "Downloaded pics/blonde/blonde7.jpg\n",
      "Downloaded pics/blonde/blonde8.jpg\n",
      "Downloaded pics/blonde/blonde9.jpg\n",
      "Downloaded pics/brunette/brown1.jpg\n",
      "Downloaded pics/brunette/brown10.jpg\n",
      "Downloaded pics/brunette/brown2.jpg\n",
      "Downloaded pics/brunette/brown3.jpg\n",
      "Downloaded pics/brunette/brown4.jpg\n",
      "Downloaded pics/brunette/brown5.jpg\n",
      "Downloaded pics/brunette/brown6.jpg\n",
      "Downloaded pics/brunette/brown7.jpg\n",
      "Downloaded pics/brunette/brown8.jpg\n",
      "Downloaded pics/brunette/brown9.jpg\n",
      "Downloaded pics/people_database/aaron_stevenson.png\n",
      "Downloaded pics/people_database/arnie_beltran.png\n",
      "Downloaded pics/people_database/ben_hurst.png\n",
      "Downloaded pics/people_database/isaac_mcgruire.png\n",
      "Downloaded pics/people_database/john_clay.png\n",
      "Downloaded pics/people_database/joseph_madden.png\n",
      "Downloaded pics/people_database/justin_lozano.png\n",
      "Downloaded pics/people_database/king_jackson.png\n",
      "Downloaded pics/people_database/matt_roberts.png\n",
      "Downloaded pics/people_database/mike_lott.png\n",
      "Downloaded pics/people_database/nick_findlay.png\n",
      "Downloaded pics/people_database/sean_mac.png\n",
      "Downloaded pics/people_database/taryn_cooke.png\n",
      "Downloaded pics/people_database/tobi_durham.png\n",
      "Downloaded pics/people_database/zack_crosby.png\n",
      "Downloaded pics/redheads/red1.jpg\n",
      "Downloaded pics/redheads/red10.jpg\n",
      "Downloaded pics/redheads/red11.jpg\n",
      "Downloaded pics/redheads/red12.jpg\n",
      "Downloaded pics/redheads/red13.jpg\n",
      "Downloaded pics/redheads/red2.jpg\n",
      "Downloaded pics/redheads/red3.jpg\n",
      "Downloaded pics/redheads/red4.jpg\n",
      "Downloaded pics/redheads/red5.jpg\n",
      "Downloaded pics/redheads/red6.jpg\n",
      "Downloaded pics/redheads/red7.jpg\n",
      "Downloaded pics/redheads/red8.jpg\n",
      "Downloaded pics/redheads/red9.jpg\n",
      "Downloaded pics/wilsons_hair.jpg\n",
      "Downloaded pics/asst_manager/john_clay_beard.png\n",
      "Downloaded data/hair_color.pkl\n",
      "All Good\n"
     ]
    }
   ],
   "source": [
    "# modules for file transfer\n",
    "import os, io, sys\n",
    "import glob\n",
    "from zipfile import ZipFile\n",
    "import shutil\n",
    "from urllib.request import urlopen\n",
    "\n",
    "# needed to download pics for this example\n",
    "def download_files (repository, directory_to_download):\n",
    " \n",
    "    from urllib.request import urlopen\n",
    "    \n",
    "    # go to github repository\n",
    "    http_response = urlopen(repository)\n",
    "    zipfile = ZipFile(io.BytesIO(http_response.read()))\n",
    "    files = zipfile.namelist()\n",
    "    for file in files:\n",
    "        if directory_to_download in file:\n",
    "            outfile = file[file.find (directory_to_download):]\n",
    "            outdir = os.path.dirname (outfile)\n",
    "            if not os.path.exists (outdir):\n",
    "                os.makedirs (outdir, exist_ok=True)\n",
    "            if not file.endswith (\"/\"):\n",
    "                try:\n",
    "                \n",
    "                    zipfile.extract (file, \".\")\n",
    "                    shutil.copy (file, outfile)\n",
    "                    print (\"Downloaded \" + outfile)\n",
    "                except:\n",
    "                    print (\"ERROR: Unable to download \" + outfile)\n",
    "                    raise\n",
    "                    \n",
    "    \n",
    "repository = \"https://github.com/pauline-ng/holmes/archive/refs/heads/master.zip\"\n",
    "\n",
    "\n",
    "download_files (repository, \"pics/\")\n",
    "download_files(repository, \"data/\")\n",
    "\n",
    "print (\"All Good\")\n"
   ]
  }
 ],
 "metadata": {
  "kernelspec": {
   "display_name": "Python 3",
   "language": "python",
   "name": "python3"
  },
  "language_info": {
   "codemirror_mode": {
    "name": "ipython",
    "version": 3
   },
   "file_extension": ".py",
   "mimetype": "text/x-python",
   "name": "python",
   "nbconvert_exporter": "python",
   "pygments_lexer": "ipython3",
   "version": "3.6.9"
  }
 },
 "nbformat": 4,
 "nbformat_minor": 4
}
