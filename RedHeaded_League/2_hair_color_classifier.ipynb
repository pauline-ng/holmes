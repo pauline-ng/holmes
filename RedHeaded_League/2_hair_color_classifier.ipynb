{
 "cells": [
  {
   "cell_type": "markdown",
   "metadata": {},
   "source": [
    "# Read in the images (X) and their hair color labels (Y)"
   ]
  },
  {
   "cell_type": "code",
   "execution_count": 12,
   "metadata": {
    "id": "kCEfP9uxuNXU"
   },
   "outputs": [
    {
     "name": "stdout",
     "output_type": "stream",
     "text": [
      "read in 33 images\n"
     ]
    }
   ],
   "source": [
    "from skimage import io as skimage_io\n",
    "from skimage.transform import resize\n",
    "import os, io, glob\n",
    "\n",
    "X =[]\n",
    "Y = []\n",
    "\n",
    "\n",
    "# these hair color pics were downloaded from IMDB's list of actresses that were\n",
    "# \"blonde\", \"brunette\", and \"red heads\"\n",
    "# example https://www.imdb.com/list/ls058386015/  -- a list of blonde actresses\n",
    "folders = [\"pics/blonde/blonde*jpg\", \"pics/brunette/brown*jpg\", \"pics/redheads/red*jpg\"]\n",
    "\n",
    "# assign jpg_files all of the hair-colored jpgs\n",
    "jpg_files = []\n",
    "for folder in folders:\n",
    "    jpg_files.extend (glob.glob (folder))\n",
    "\n",
    "training_data = []\n",
    "\n",
    "IMG_PX_SIZE = 20 # pixels. All pictures will be resized to IMG_PX_SIZE x IMG_PX_SIZE\n",
    "\n",
    "for jpg_file in jpg_files:\n",
    "    \n",
    "    # assign the hair color of this image to label.\n",
    "    # e.g. filename \"red1.jpg\" becomes red, \"brown2.jpg\" becomes brown\n",
    "    label = os.path.basename (jpg_file).replace (\".jpg\", \"\")\n",
    "    label = ''.join([i for i in label if not i.isdigit()]) \n",
    "\n",
    "    # read the image into rgb_img\n",
    "    rgb_img = skimage_io.imread (jpg_file)\n",
    "    \n",
    "    # resize the image, so all images have the same size\n",
    "    rgb_img = resize (rgb_img, (IMG_PX_SIZE,IMG_PX_SIZE))\n",
    "\n",
    "    # store the picture information in X, and the hair color in Y\n",
    "    # we will try to predict Y based on X (predict hair color based on a picture)\n",
    "    X.append (rgb_img.reshape (1, IMG_PX_SIZE*IMG_PX_SIZE*3)[0]) # flatten into a 1-D array\n",
    "    Y.append (label)\n",
    "    \n",
    "print (\"read in \" + str (len(X)) + \" images\")"
   ]
  },
  {
   "cell_type": "markdown",
   "metadata": {
    "id": "4wDEQEwCuNXX"
   },
   "source": [
    "# Create a classifier\n",
    "\n",
    "This is a machine learning method that creates groups based on the labels we provide it. In this case, we are creating 3 groups (blonde, red, brunette). The model will learn from the blonde, red, brunette pictures (X) and will make a classifier based on the labels provided (Y). \n"
   ]
  },
  {
   "cell_type": "code",
   "execution_count": 30,
   "metadata": {
    "colab": {
     "base_uri": "https://localhost:8080/"
    },
    "id": "ujxQj0K4uNXY",
    "outputId": "62551746-71f2-4e18-d940-461119b46e78"
   },
   "outputs": [
    {
     "data": {
      "text/plain": [
       "KNeighborsClassifier(n_neighbors=3)"
      ]
     },
     "execution_count": 30,
     "metadata": {},
     "output_type": "execute_result"
    }
   ],
   "source": [
    "from sklearn.neighbors import KNeighborsClassifier\n",
    "\n",
    "num_groups = 3  # blonde, red, brunette\n",
    "\n",
    "# initialize the model with KNeighborsClassifier and the number of groups\n",
    "model = KNeighborsClassifier(n_neighbors=num_groups)\n",
    "\n",
    "# make the classifier based on X (pictures) and Y (their hair color labels)\n",
    "model.fit (X, Y)\n",
    "\n"
   ]
  },
  {
   "cell_type": "markdown",
   "metadata": {},
   "source": [
    "# Calculate classifier's performance\n",
    "\n",
    "Given an image (X), what does the model predict\n",
    "Compare the model's predictions with the true labels (Y)"
   ]
  },
  {
   "cell_type": "code",
   "execution_count": 31,
   "metadata": {},
   "outputs": [
    {
     "data": {
      "text/plain": [
       "0.9393939393939394"
      ]
     },
     "execution_count": 31,
     "metadata": {},
     "output_type": "execute_result"
    }
   ],
   "source": [
    "from sklearn.metrics import accuracy_score\n",
    "\n",
    "predicted_labels = model.predict (X)\n",
    "\n",
    "# get accuracy of K-neighbors classifier\n",
    "accuracy_score (Y,predicted_labels )"
   ]
  },
  {
   "cell_type": "markdown",
   "metadata": {},
   "source": [
    "The classifier is 94% accurate, not 100%. Let's see where is it getting it wrong?"
   ]
  },
  {
   "cell_type": "code",
   "execution_count": 21,
   "metadata": {
    "colab": {
     "base_uri": "https://localhost:8080/"
    },
    "id": "d3n1b_37uNXb",
    "outputId": "b0152eb1-8605-4abf-d46f-7827177a0703"
   },
   "outputs": [
    {
     "name": "stdout",
     "output_type": "stream",
     "text": [
      "Predicted Hair Color\tFilename\n",
      "blonde\tpics/blonde/blonde4.jpg\n",
      "blonde\tpics/blonde/blonde10.jpg\n",
      "blonde\tpics/blonde/blonde2.jpg\n",
      "blonde\tpics/blonde/blonde5.jpg\n",
      "blonde\tpics/blonde/blonde6.jpg\n",
      "red\tpics/blonde/blonde9.jpg\n",
      "blonde\tpics/blonde/blonde1.jpg\n",
      "blonde\tpics/blonde/blonde8.jpg\n",
      "red\tpics/blonde/blonde7.jpg\n",
      "blonde\tpics/blonde/blonde3.jpg\n",
      "brown\tpics/brunette/brown7.jpg\n",
      "brown\tpics/brunette/brown2.jpg\n",
      "brown\tpics/brunette/brown3.jpg\n",
      "brown\tpics/brunette/brown9.jpg\n",
      "brown\tpics/brunette/brown5.jpg\n",
      "brown\tpics/brunette/brown6.jpg\n",
      "brown\tpics/brunette/brown4.jpg\n",
      "brown\tpics/brunette/brown1.jpg\n",
      "brown\tpics/brunette/brown10.jpg\n",
      "brown\tpics/brunette/brown8.jpg\n",
      "red\tpics/redheads/red10.jpg\n",
      "red\tpics/redheads/red9.jpg\n",
      "red\tpics/redheads/red5.jpg\n",
      "red\tpics/redheads/red7.jpg\n",
      "red\tpics/redheads/red6.jpg\n",
      "red\tpics/redheads/red11.jpg\n",
      "red\tpics/redheads/red1.jpg\n",
      "red\tpics/redheads/red3.jpg\n",
      "red\tpics/redheads/red4.jpg\n",
      "red\tpics/redheads/red2.jpg\n",
      "red\tpics/redheads/red8.jpg\n",
      "red\tpics/redheads/red13.jpg\n",
      "red\tpics/redheads/red12.jpg\n"
     ]
    }
   ],
   "source": [
    "print (\"Predicted Hair Color\\tFilename\")\n",
    "for i, jpg_file in enumerate (jpg_files):\n",
    "    print (predicted_labels[i] + \"\\t\" + jpg_file)\n"
   ]
  },
  {
   "cell_type": "markdown",
   "metadata": {
    "id": "sXjf3iS8uNXe"
   },
   "source": [
    "There are 2 blondes that are classified as red. (You can look at blonde7.jpg and blonde9.jpg, and see if this is reasonable)"
   ]
  },
  {
   "cell_type": "markdown",
   "metadata": {
    "id": "HxJAtjNSuNXh"
   },
   "source": [
    "# Save the hair color classifier\n",
    "\n",
    "After training the machine learning model, we want to save the classifier for future use."
   ]
  },
  {
   "cell_type": "code",
   "execution_count": 33,
   "metadata": {
    "id": "OUN9Sq8NuNXh"
   },
   "outputs": [],
   "source": [
    "import pickle\n",
    "\n",
    "#save the hair-color classifier\n",
    "pickle.dump (model, open ('data/hair_color.pkl', 'wb'))\n"
   ]
  }
 ],
 "metadata": {
  "celltoolbar": "Tags",
  "colab": {
   "collapsed_sections": [],
   "name": "Copy of hair_color.ipynb",
   "provenance": []
  },
  "kernelspec": {
   "display_name": "Python 3",
   "language": "python",
   "name": "python3"
  },
  "language_info": {
   "codemirror_mode": {
    "name": "ipython",
    "version": 3
   },
   "file_extension": ".py",
   "mimetype": "text/x-python",
   "name": "python",
   "nbconvert_exporter": "python",
   "pygments_lexer": "ipython3",
   "version": "3.6.9"
  }
 },
 "nbformat": 4,
 "nbformat_minor": 1
}
