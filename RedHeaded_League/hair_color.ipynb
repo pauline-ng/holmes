{
 "cells": [
  {
   "cell_type": "code",
   "execution_count": 2,
   "metadata": {},
   "outputs": [
    {
     "name": "stderr",
     "output_type": "stream",
     "text": [
      "In /home/pauline/.local/lib/python3.6/site-packages/matplotlib/mpl-data/stylelib/_classic_test.mplstyle: \n",
      "The text.latex.preview rcparam was deprecated in Matplotlib 3.3 and will be removed two minor releases later.\n",
      "In /home/pauline/.local/lib/python3.6/site-packages/matplotlib/mpl-data/stylelib/_classic_test.mplstyle: \n",
      "The mathtext.fallback_to_cm rcparam was deprecated in Matplotlib 3.3 and will be removed two minor releases later.\n",
      "In /home/pauline/.local/lib/python3.6/site-packages/matplotlib/mpl-data/stylelib/_classic_test.mplstyle: Support for setting the 'mathtext.fallback_to_cm' rcParam is deprecated since 3.3 and will be removed two minor releases later; use 'mathtext.fallback : 'cm' instead.\n",
      "In /home/pauline/.local/lib/python3.6/site-packages/matplotlib/mpl-data/stylelib/_classic_test.mplstyle: \n",
      "The validate_bool_maybe_none function was deprecated in Matplotlib 3.3 and will be removed two minor releases later.\n",
      "In /home/pauline/.local/lib/python3.6/site-packages/matplotlib/mpl-data/stylelib/_classic_test.mplstyle: \n",
      "The savefig.jpeg_quality rcparam was deprecated in Matplotlib 3.3 and will be removed two minor releases later.\n",
      "In /home/pauline/.local/lib/python3.6/site-packages/matplotlib/mpl-data/stylelib/_classic_test.mplstyle: \n",
      "The keymap.all_axes rcparam was deprecated in Matplotlib 3.3 and will be removed two minor releases later.\n",
      "In /home/pauline/.local/lib/python3.6/site-packages/matplotlib/mpl-data/stylelib/_classic_test.mplstyle: \n",
      "The animation.avconv_path rcparam was deprecated in Matplotlib 3.3 and will be removed two minor releases later.\n",
      "In /home/pauline/.local/lib/python3.6/site-packages/matplotlib/mpl-data/stylelib/_classic_test.mplstyle: \n",
      "The animation.avconv_args rcparam was deprecated in Matplotlib 3.3 and will be removed two minor releases later.\n"
     ]
    },
    {
     "name": "stdout",
     "output_type": "stream",
     "text": [
      "hello\n"
     ]
    }
   ],
   "source": [
    "from PIL import Image\n",
    "import glob\n",
    "import os\n",
    "import numpy as np\n",
    "from skimage import color\n",
    "from skimage import io\n",
    "from skimage.transform import resize\n",
    "from skimage.color import rgb2hsv\n",
    "import matplotlib.pyplot as plt \n",
    "#import cv2\n",
    "\n",
    "\n",
    "folders = [\"pics/blonde/blonde*jpg\", \"pics/brunette/brown*jpg\", \"pics/redheads/red*jpg\"]\n",
    "X =[]\n",
    "Y = []\n",
    "imgs_with_channel = []\n",
    "\n",
    "def resize_images ():\n",
    "    jpg_files=glob.glob (folders[0])\n",
    "    for jpg_file in jpg_files:\n",
    "        min_width = 1000\n",
    "        min_height = 1000\n",
    "\n",
    "        im = Image.open(jpg_file) # Can be many different formats.\n",
    "        pix = im.load()\n",
    "        print (im.size)  # Get the width and hight of the image for iterating over\n",
    "        if im.size[0] < min_width:\n",
    "            min_width = im.size[0]\n",
    "        if im.size[1] < min_height:\n",
    "            min_height = im.size[1]\n",
    "\n",
    "        \n",
    "print (\"hello\")\n",
    "\n",
    "# assign jpg_files all of the hair-colored jpgs\n",
    "jpg_files = []\n",
    "for folder in folders:\n",
    "    jpg_files.extend (glob.glob (folder))\n",
    "\n",
    "training_data = []\n",
    "IMG_SIZE = 50\n",
    "\n",
    "for jpg_file in jpg_files:\n",
    "    label = os.path.basename (jpg_file).replace (\".jpg\", \"\")\n",
    "    label = ''.join([i for i in label if not i.isdigit()]) \n",
    "\n",
    "    im = Image.open(jpg_file) # Can be many different formats.\n",
    "\n",
    "    x=20\n",
    "    y=20\n",
    "    IMG_PX_SIZE = 20 # pixels\n",
    "    rgb_img = io.imread (jpg_file)\n",
    "    \n",
    "    # resize images to all the same size\n",
    "    #rgb_img_resize = rgb_img.resize(IMG_SIZE, IMG_SIZE, 0)\n",
    "    #rgb_img = rgb_img.resize (20,20,0)\n",
    "    rgb_img = resize (rgb_img, (IMG_PX_SIZE,IMG_PX_SIZE))\n",
    "    # get HSV representation of image\n",
    " #   hsv_img = rgb2hsv (rgb_img)\n",
    "    \n",
    "    # get Hue values of image (igeore saturation and value)\n",
    "    # do over, need to resize\n",
    "  #  hue_img = hsv_img[0:x, 0:y, 0]\n",
    "    #hue_img_resize = cv2\n",
    " #   print (hue_img.shape)\n",
    "    \n",
    "    #print (pix[x,y])  # Get the RGBA Value of the a pixel of an image\n",
    "  #  print (hue_img[x,y])\n",
    "   # print (rgb_img.reshape (1, IMG_PX_SIZE*IMG_PX_SIZE*3)[0])  # flatten into an array\n",
    " #   X.append (hue_img.reshape ((hue_img.shape[0], x*y*3)))\n",
    "    #X.append (np.array(hue_img))    \n",
    "    X.append (rgb_img.reshape (1, x*y*3)[0]) # flatten into a 1-D array\n",
    "    Y.append (label)\n",
    "    \n",
    "\n",
    " #   img_with_channel = np.expand_dims (hue_img, axis=-1)\n",
    "  #  imgs_with_channel.append (img_with_channel)\n",
    "#        print (depth_with_channel.shape)\n",
    "\n",
    "\n",
    "    # final step-forming the training data list with numpy array of the images \n",
    "   # training_data.append([np.array(hue_img), np.array(label)]) \n",
    "  \n"
   ]
  },
  {
   "cell_type": "code",
   "execution_count": 4,
   "metadata": {},
   "outputs": [],
   "source": [
    "#IMG_SIZE = 50\n",
    "\n",
    "#from keras.models import Sequential\n",
    "#from keras.layers import Conv2D, MaxPooling2D\n",
    "#from keras.layers import Activation, Dropout, Flatten, Dense\n",
    "from sklearn.neighbors import KNeighborsClassifier\n",
    "#from sklearn.preprocessing import LabelEncoder\n",
    "\n",
    "\n",
    "\n"
   ]
  },
  {
   "cell_type": "code",
   "execution_count": 5,
   "metadata": {},
   "outputs": [
    {
     "data": {
      "text/plain": [
       "KNeighborsClassifier(n_neighbors=3)"
      ]
     },
     "execution_count": 5,
     "metadata": {},
     "output_type": "execute_result"
    }
   ],
   "source": [
    "num_groups = 3  # blonde, red, brunette\n",
    "\n",
    "model = KNeighborsClassifier(n_neighbors=num_groups)\n",
    "\n",
    "model.fit (X, Y)\n"
   ]
  },
  {
   "cell_type": "markdown",
   "metadata": {},
   "source": [
    "prediction = model.predict (X)"
   ]
  },
  {
   "cell_type": "code",
   "execution_count": 6,
   "metadata": {},
   "outputs": [
    {
     "name": "stdout",
     "output_type": "stream",
     "text": [
      "['blonde' 'blonde' 'blonde' 'blonde' 'blonde' 'red' 'blonde' 'blonde'\n",
      " 'red' 'blonde' 'brown' 'brown' 'brown' 'brown' 'brown' 'brown' 'brown'\n",
      " 'brown' 'brown' 'red' 'red' 'red' 'red' 'red' 'red' 'red' 'red' 'red'\n",
      " 'red' 'red' 'red' 'red']\n"
     ]
    }
   ],
   "source": [
    "print (model.predict (X))"
   ]
  },
  {
   "cell_type": "code",
   "execution_count": 12,
   "metadata": {},
   "outputs": [
    {
     "name": "stdout",
     "output_type": "stream",
     "text": [
      "all probabilities:\n",
      " [[1.         0.         0.        ]\n",
      " [1.         0.         0.        ]\n",
      " [1.         0.         0.        ]\n",
      " [1.         0.         0.        ]\n",
      " [1.         0.         0.        ]\n",
      " [0.33333333 0.         0.66666667]\n",
      " [1.         0.         0.        ]\n",
      " [1.         0.         0.        ]\n",
      " [0.33333333 0.         0.66666667]\n",
      " [1.         0.         0.        ]\n",
      " [0.         1.         0.        ]\n",
      " [0.         1.         0.        ]\n",
      " [0.         1.         0.        ]\n",
      " [0.         1.         0.        ]\n",
      " [0.         1.         0.        ]\n",
      " [0.         1.         0.        ]\n",
      " [0.         1.         0.        ]\n",
      " [0.         1.         0.        ]\n",
      " [0.         1.         0.        ]\n",
      " [0.         0.         1.        ]\n",
      " [0.         0.         1.        ]\n",
      " [0.         0.33333333 0.66666667]\n",
      " [0.         0.         1.        ]\n",
      " [0.         0.33333333 0.66666667]\n",
      " [0.         0.         1.        ]\n",
      " [0.33333333 0.         0.66666667]\n",
      " [0.         0.         1.        ]\n",
      " [0.         0.         1.        ]\n",
      " [0.         0.         1.        ]\n",
      " [0.         0.         1.        ]\n",
      " [0.         0.         1.        ]\n",
      " [0.         0.         1.        ]] \n",
      "\n"
     ]
    },
    {
     "ename": "IndexError",
     "evalue": "boolean index did not match indexed array along dimension 0; dimension is 32 but corresponding boolean dimension is 3",
     "output_type": "error",
     "traceback": [
      "\u001b[0;31m---------------------------------------------------------------------------\u001b[0m",
      "\u001b[0;31mIndexError\u001b[0m                                Traceback (most recent call last)",
      "\u001b[0;32m<ipython-input-12-f3c4ce5c8e32>\u001b[0m in \u001b[0;36m<module>\u001b[0;34m\u001b[0m\n\u001b[1;32m      5\u001b[0m \u001b[0mnumber_of_classes\u001b[0m \u001b[0;34m=\u001b[0m \u001b[0;36m3\u001b[0m\u001b[0;34m\u001b[0m\u001b[0;34m\u001b[0m\u001b[0m\n\u001b[1;32m      6\u001b[0m \u001b[0;32mfor\u001b[0m \u001b[0mc\u001b[0m \u001b[0;32min\u001b[0m \u001b[0mrange\u001b[0m\u001b[0;34m(\u001b[0m\u001b[0mnumber_of_classes\u001b[0m\u001b[0;34m)\u001b[0m\u001b[0;34m:\u001b[0m\u001b[0;34m\u001b[0m\u001b[0;34m\u001b[0m\u001b[0m\n\u001b[0;32m----> 7\u001b[0;31m     \u001b[0mlikely\u001b[0m\u001b[0;34m=\u001b[0m\u001b[0mprobs\u001b[0m\u001b[0;34m[\u001b[0m\u001b[0mprobs\u001b[0m\u001b[0;34m[\u001b[0m\u001b[0mc\u001b[0m\u001b[0;34m]\u001b[0m \u001b[0;34m>\u001b[0m \u001b[0;36m0.5\u001b[0m\u001b[0;34m]\u001b[0m\u001b[0;34m\u001b[0m\u001b[0;34m\u001b[0m\u001b[0m\n\u001b[0m\u001b[1;32m      8\u001b[0m     \u001b[0mprint\u001b[0m \u001b[0;34m(\u001b[0m\u001b[0;34m\"class\"\u001b[0m \u001b[0;34m+\u001b[0m \u001b[0mstr\u001b[0m\u001b[0;34m(\u001b[0m\u001b[0mc\u001b[0m\u001b[0;34m)\u001b[0m \u001b[0;34m+\u001b[0m \u001b[0;34m\" probability > 0.5:\\n\"\u001b[0m\u001b[0;34m,\u001b[0m \u001b[0mlikely\u001b[0m\u001b[0;34m)\u001b[0m\u001b[0;34m\u001b[0m\u001b[0;34m\u001b[0m\u001b[0m\n\u001b[1;32m      9\u001b[0m     \u001b[0mprint\u001b[0m \u001b[0;34m(\u001b[0m\u001b[0;34m\"indexes of likely class\"\u001b[0m \u001b[0;34m+\u001b[0m \u001b[0mstr\u001b[0m\u001b[0;34m(\u001b[0m\u001b[0mc\u001b[0m\u001b[0;34m)\u001b[0m \u001b[0;34m+\u001b[0m \u001b[0;34m\":\"\u001b[0m\u001b[0;34m,\u001b[0m \u001b[0mlikely\u001b[0m\u001b[0;34m.\u001b[0m\u001b[0mindex\u001b[0m\u001b[0;34m.\u001b[0m\u001b[0mtolist\u001b[0m\u001b[0;34m(\u001b[0m\u001b[0;34m)\u001b[0m\u001b[0;34m,\u001b[0m \u001b[0;34m\"\\n\"\u001b[0m\u001b[0;34m)\u001b[0m\u001b[0;34m\u001b[0m\u001b[0;34m\u001b[0m\u001b[0m\n",
      "\u001b[0;31mIndexError\u001b[0m: boolean index did not match indexed array along dimension 0; dimension is 32 but corresponding boolean dimension is 3"
     ]
    }
   ],
   "source": [
    "#print \"generated examples to predict:\\n\",predict,\"\\n\"\n",
    "# predict class probabilities for each class for each value and convert to DataFrame\n",
    "probs = model.predict_proba(X)\n",
    "print (\"all probabilities:\\n\", probs, \"\\n\")\n",
    "number_of_classes = 3\n",
    "for c in range(number_of_classes):\n",
    "    likely=probs[probs[c] > 0.5]\n",
    "    print (\"class\" + str(c) + \" probability > 0.5:\\n\", likely)\n",
    "    print (\"indexes of likely class\" + str(c) + \":\", likely.index.tolist(), \"\\n\")"
   ]
  },
  {
   "cell_type": "code",
   "execution_count": 67,
   "metadata": {},
   "outputs": [
    {
     "ename": "ModuleNotFoundError",
     "evalue": "No module named 'mlxtend'",
     "output_type": "error",
     "traceback": [
      "\u001b[0;31m---------------------------------------------------------------------------\u001b[0m",
      "\u001b[0;31mModuleNotFoundError\u001b[0m                       Traceback (most recent call last)",
      "\u001b[0;32m<ipython-input-67-cf49b518e874>\u001b[0m in \u001b[0;36m<module>\u001b[0;34m\u001b[0m\n\u001b[1;32m      2\u001b[0m \u001b[0;31m# https://stackoverflow.com/questions/65269382/how-can-i-visualize-the-test-samples-of-k-nearest-neighbour-classifier\u001b[0m\u001b[0;34m\u001b[0m\u001b[0;34m\u001b[0m\u001b[0;34m\u001b[0m\u001b[0m\n\u001b[1;32m      3\u001b[0m \u001b[0;34m\u001b[0m\u001b[0m\n\u001b[0;32m----> 4\u001b[0;31m \u001b[0;32mfrom\u001b[0m \u001b[0mmlxtend\u001b[0m\u001b[0;34m.\u001b[0m\u001b[0mplotting\u001b[0m \u001b[0;32mimport\u001b[0m \u001b[0mplot_decision_regions\u001b[0m\u001b[0;34m\u001b[0m\u001b[0;34m\u001b[0m\u001b[0m\n\u001b[0m\u001b[1;32m      5\u001b[0m \u001b[0;34m\u001b[0m\u001b[0m\n\u001b[1;32m      6\u001b[0m \u001b[0mplot_decision_regions\u001b[0m\u001b[0;34m(\u001b[0m\u001b[0mX\u001b[0m\u001b[0;34m,\u001b[0m \u001b[0mY\u001b[0m\u001b[0;34m,\u001b[0m \u001b[0mclf\u001b[0m\u001b[0;34m=\u001b[0m\u001b[0mmodel\u001b[0m\u001b[0;34m,\u001b[0m \u001b[0mlegend\u001b[0m\u001b[0;34m=\u001b[0m\u001b[0;36m2\u001b[0m\u001b[0;34m)\u001b[0m\u001b[0;31m# Adding axes annotations\u001b[0m\u001b[0;34m\u001b[0m\u001b[0;34m\u001b[0m\u001b[0m\n",
      "\u001b[0;31mModuleNotFoundError\u001b[0m: No module named 'mlxtend'"
     ]
    }
   ],
   "source": [
    "# visualization\n",
    "# https://stackoverflow.com/questions/65269382/how-can-i-visualize-the-test-samples-of-k-nearest-neighbour-classifier\n",
    "\n",
    "from mlxtend.plotting import plot_decision_regions\n",
    "\n",
    "plot_decision_regions(X, Y, clf=model, legend=2)# Adding axes annotations\n",
    "plt.xlabel(\"X\")\n",
    "plt.ylabel(\"Y\")\n",
    "plt.title(\"Knn with K=3\")\n",
    "plt.show()\n",
    "\n",
    "\n",
    "def get_neighbors(xs, sample):\n",
    "    neighbors = [(x, np.sum(np.abs(x - sample))) for x in xs]\n",
    "    neighbors = sorted(neighbors, key=lambda x: x[1])\n",
    "    return np.array([x for x, _ in neighbors])\n",
    "\n",
    "colors_array = []\n",
    "for hair_color in Y:\n",
    "    color = hair_color\n",
    "    if hair_color == \"blonde\":\n",
    "        color = \"yellow\"\n",
    "    colors_array.append (color)\n",
    "    \n",
    "_, ax = plt.subplots(nrows=1, ncols=4, figsize=(15, 5))\n",
    "for i in range(4):\n",
    "    sample = X[i]\n",
    "    neighbors = get_neighbors(X, sample)\n",
    " #   print (X)\n",
    "#    print (X[:,0])\n",
    " #   ax[i].scatter(X[:, 0], X[:, 1], c=\"skyblue\")\n",
    "    ax[i].scatter(neighbors[:, 0], neighbors[:, 1], c=colors_array) #edgecolor=\"green\")\n",
    "    ax[i].scatter(sample[0], sample[1], marker=\"+\", c=\"red\", s=100)\n",
    "    ax[i].set(xlim=(-2, 2), ylim=(-2, 2))\n",
    "\n",
    "plt.tight_layout()\n",
    "\n"
   ]
  },
  {
   "cell_type": "code",
   "execution_count": null,
   "metadata": {},
   "outputs": [],
   "source": []
  },
  {
   "cell_type": "code",
   "execution_count": null,
   "metadata": {},
   "outputs": [],
   "source": []
  }
 ],
 "metadata": {
  "kernelspec": {
   "display_name": "Python 3",
   "language": "python",
   "name": "python3"
  },
  "language_info": {
   "codemirror_mode": {
    "name": "ipython",
    "version": 3
   },
   "file_extension": ".py",
   "mimetype": "text/x-python",
   "name": "python",
   "nbconvert_exporter": "python",
   "pygments_lexer": "ipython3",
   "version": "3.6.9"
  }
 },
 "nbformat": 4,
 "nbformat_minor": 4
}
