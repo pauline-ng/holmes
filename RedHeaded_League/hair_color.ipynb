{
  "nbformat": 4,
  "nbformat_minor": 0,
  "metadata": {
    "kernelspec": {
      "display_name": "Python 3",
      "language": "python",
      "name": "python3"
    },
    "language_info": {
      "codemirror_mode": {
        "name": "ipython",
        "version": 3
      },
      "file_extension": ".py",
      "mimetype": "text/x-python",
      "name": "python",
      "nbconvert_exporter": "python",
      "pygments_lexer": "ipython3",
      "version": "3.6.9"
    },
    "colab": {
      "name": "Copy of hair_color.ipynb",
      "provenance": [],
      "collapsed_sections": []
    }
  },
  "cells": [
    {
      "cell_type": "code",
      "metadata": {
        "id": "2mogrVcmuNXR"
      },
      "source": [
        "from PIL import Image\n",
        "import glob\n",
        "import os, io\n",
        "import numpy as np\n",
        "from skimage import color\n",
        "#from skimage import io\n",
        "import skimage\n",
        "from skimage.transform import resize\n",
        "from skimage.color import rgb2hsv\n",
        "import matplotlib.pyplot as plt \n",
        "from urllib.request import urlopen\n",
        "from zipfile import ZipFile\n",
        "import shutil\n",
        "\n",
        "folders = [\"pics/blonde/blonde*jpg\", \"pics/brunette/brown*jpg\", \"pics/redheads/red*jpg\"]\n",
        "X =[]\n",
        "Y = []\n",
        "imgs_with_channel = []\n",
        "\n",
        "# needed to download pics for this example\n",
        "def download_files (repository, directory_to_download):\n",
        " \n",
        "    # go to github repository\n",
        "    http_response = urlopen(repository)\n",
        "    zipfile = ZipFile(io.BytesIO(http_response.read()))\n",
        "    files = zipfile.namelist()\n",
        "    for file in files:\n",
        "        if directory_to_download in file:\n",
        "            outfile = file[file.find (directory_to_download):]\n",
        "            outdir = os.path.dirname (outfile)\n",
        "            if not os.path.exists (outdir):\n",
        "                os.makedirs (outdir, exist_ok=True)\n",
        "            if not file.endswith (\"/\"):\n",
        "              #  print (file)\n",
        "              #  print (outfile)\n",
        "                zipfile.extract (file, \".\")\n",
        "                shutil.copy (file, outfile)\n",
        "            \n",
        "    \n",
        "repository = \"https://github.com/pauline-ng/holmes/archive/refs/heads/master.zip\"\n",
        "directory_to_download = \"pics/\"\n",
        "\n",
        "download_files(repository, directory_to_download)"
      ],
      "execution_count": null,
      "outputs": []
    },
    {
      "cell_type": "code",
      "metadata": {
        "id": "kCEfP9uxuNXU"
      },
      "source": [
        "from skimage import io as skimage_io\n",
        "\n",
        "# assign jpg_files all of the hair-colored jpgs\n",
        "jpg_files = []\n",
        "for folder in folders:\n",
        "    jpg_files.extend (glob.glob (folder))\n",
        "\n",
        "training_data = []\n",
        "IMG_SIZE = 50\n",
        "\n",
        "for jpg_file in jpg_files:\n",
        "    label = os.path.basename (jpg_file).replace (\".jpg\", \"\")\n",
        "    label = ''.join([i for i in label if not i.isdigit()]) \n",
        "\n",
        "    im = Image.open(jpg_file) # Can be many different formats.\n",
        "\n",
        "    IMG_PX_SIZE = 20 # pixels\n",
        "    rgb_img = skimage_io.imread (jpg_file)\n",
        "    \n",
        "\n",
        "    rgb_img = resize (rgb_img, (IMG_PX_SIZE,IMG_PX_SIZE))\n",
        "  \n",
        "    X.append (rgb_img.reshape (1, IMG_PX_SIZE*IMG_PX_SIZE*3)[0]) # flatten into a 1-D array\n",
        "    Y.append (label)\n",
        "    \n"
      ],
      "execution_count": null,
      "outputs": []
    },
    {
      "cell_type": "code",
      "metadata": {
        "id": "4wDEQEwCuNXX"
      },
      "source": [
        "\n",
        "from sklearn.neighbors import KNeighborsClassifier\n",
        "#from sklearn.preprocessing import LabelEncoder\n",
        "\n",
        "\n",
        "\n"
      ],
      "execution_count": null,
      "outputs": []
    },
    {
      "cell_type": "code",
      "metadata": {
        "colab": {
          "base_uri": "https://localhost:8080/"
        },
        "id": "ujxQj0K4uNXY",
        "outputId": "62551746-71f2-4e18-d940-461119b46e78"
      },
      "source": [
        "num_groups = 3  # blonde, red, brunette\n",
        "\n",
        "model = KNeighborsClassifier(n_neighbors=num_groups)\n",
        "\n",
        "model.fit (X, Y)\n"
      ],
      "execution_count": null,
      "outputs": [
        {
          "output_type": "execute_result",
          "data": {
            "text/plain": [
              "KNeighborsClassifier(n_neighbors=3)"
            ]
          },
          "metadata": {},
          "execution_count": 5
        }
      ]
    },
    {
      "cell_type": "markdown",
      "metadata": {
        "id": "m0gOy52HuNXZ"
      },
      "source": [
        "prediction = model.predict (X)"
      ]
    },
    {
      "cell_type": "code",
      "metadata": {
        "colab": {
          "base_uri": "https://localhost:8080/"
        },
        "id": "d3n1b_37uNXb",
        "outputId": "b0152eb1-8605-4abf-d46f-7827177a0703"
      },
      "source": [
        "print (model.predict (X))"
      ],
      "execution_count": null,
      "outputs": [
        {
          "output_type": "stream",
          "name": "stdout",
          "text": [
            "['blonde' 'blonde' 'red' 'blonde' 'blonde' 'blonde' 'blonde' 'blonde'\n",
            " 'red' 'blonde' 'brown' 'brown' 'brown' 'brown' 'brown' 'brown' 'brown'\n",
            " 'brown' 'brown' 'brown' 'red' 'red' 'red' 'red' 'red' 'red' 'red' 'red'\n",
            " 'red' 'red' 'red' 'red' 'red']\n"
          ]
        }
      ]
    },
    {
      "cell_type": "code",
      "metadata": {
        "id": "SZ0toBCCuNXc"
      },
      "source": [
        "#print \"generated examples to predict:\\n\",predict,\"\\n\"\n",
        "# predict class probabilities for each class for each value and convert to DataFrame\n",
        "probs = model.predict_proba(X)\n",
        "#print (\"all probabilities:\\n\", probs, \"\\n\")\n",
        "for index, prob in enumerate (probs):\n",
        "    jpg_file = jpg_files[index]\n",
        "    print (jpg_file)\n",
        "    print (str(prob))\n"
      ],
      "execution_count": null,
      "outputs": []
    },
    {
      "cell_type": "markdown",
      "metadata": {
        "id": "sXjf3iS8uNXe"
      },
      "source": [
        "red1 has a component of blonde in it, not truly red\n"
      ]
    },
    {
      "cell_type": "code",
      "metadata": {
        "colab": {
          "base_uri": "https://localhost:8080/",
          "height": 386
        },
        "id": "4GTHh_PAuNXf",
        "outputId": "50c1a90a-d7f0-47ea-837e-3ba713431e71"
      },
      "source": [
        "\n",
        "# visualization\n",
        "\n",
        "from mlxtend.plotting import plot_decision_regions\n",
        "from sklearn.decomposition import PCA\n",
        "from sklearn.preprocessing import LabelEncoder\n",
        "\n",
        "# turn red, blonde, brown hair labels into integers so sklearn can read it\n",
        "label_encoder = LabelEncoder()\n",
        "label_encoder.fit (Y)\n",
        "Y_encoded = label_encoder.transform(Y)\n",
        "le_name_mapping = dict(zip(label_encoder.transform(label_encoder.classes_), label_encoder.classes_))\n",
        "\n",
        "# for plotting, get the 2 most important PCA components\n",
        "pca = PCA(n_components = 2)\n",
        "X_2 = pca.fit_transform(X)\n",
        "model.fit(X_2, Y_encoded)\n",
        "\n",
        "#clf is the classifier object\n",
        "plot_decision_regions(X_2, Y_encoded, clf=model, legend=2)\n",
        "print (\"handles\")\n",
        "print (handles)\n",
        "handles, labels =  plt.gca().get_legend_handles_labels()\n",
        "print (list(map(le_name_mapping.get, [int(i) for i in le_name_mapping])))\n",
        "plt.legend(handles, list(map(le_name_mapping.get, [int(i) for i in le_name_mapping])))\n",
        "\n",
        "\n",
        "plt.xlabel(\"PCA1\", size=14)\n",
        "plt.ylabel(\"PCA2\", size=14)\n",
        "plt.title(\"K Neighbors Classifier with 3 Groups (K=3)\")\n",
        "plt.show()\n",
        "\n",
        "\n"
      ],
      "execution_count": null,
      "outputs": [
        {
          "output_type": "stream",
          "name": "stdout",
          "text": [
            "handles\n",
            "[<matplotlib.collections.PathCollection object at 0x7f6d42e0f7d0>, <matplotlib.collections.PathCollection object at 0x7f6d43936510>, <matplotlib.collections.PathCollection object at 0x7f6d42da4f50>]\n",
            "['blonde', 'brown', 'red']\n"
          ]
        },
        {
          "output_type": "stream",
          "name": "stderr",
          "text": [
            "/usr/local/lib/python3.7/dist-packages/mlxtend/plotting/decision_regions.py:244: MatplotlibDeprecationWarning: Passing unsupported keyword arguments to axis() will raise a TypeError in 3.3.\n",
            "  ax.axis(xmin=xx.min(), xmax=xx.max(), y_min=yy.min(), y_max=yy.max())\n"
          ]
        },
        {
          "output_type": "display_data",
          "data": {
            "image/png": "[encoded data removed]",
            "text/plain": [
              "<Figure size 432x288 with 1 Axes>"
            ]
          },
          "metadata": {
            "needs_background": "light"
          }
        }
      ]
    },
    {
      "cell_type": "markdown",
      "metadata": {
        "id": "eQkYh3IT5kSB"
      },
      "source": [
        ""
      ]
    },
    {
      "cell_type": "code",
      "metadata": {
        "id": "HxJAtjNSuNXh"
      },
      "source": [
        ""
      ],
      "execution_count": null,
      "outputs": []
    },
    {
      "cell_type": "code",
      "metadata": {
        "id": "OUN9Sq8NuNXh"
      },
      "source": [
        ""
      ],
      "execution_count": null,
      "outputs": []
    }
  ]
}