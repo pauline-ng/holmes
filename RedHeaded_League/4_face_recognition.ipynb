{
 "cells": [
  {
   "cell_type": "code",
   "execution_count": null,
   "metadata": {},
   "outputs": [],
   "source": [
    "#Runtime => Change runtime type and select GPU as Hardware accelerator.\n",
    "\n",
    "import sys\n",
    "!pip install face_recognition\n",
    "import face_recognition\n",
    "\n"
   ]
  },
  {
   "cell_type": "code",
   "execution_count": null,
   "metadata": {},
   "outputs": [],
   "source": [
    "#download face database and the face to recognize\n",
    "\n",
    "# needed to download pics for this example\n",
    "def download_files (repository, directory_to_download):\n",
    " \n",
    "    from urllib.request import urlopen\n",
    "    \n",
    "    # go to github repository\n",
    "    http_response = urlopen(repository)\n",
    "    zipfile = ZipFile(io.BytesIO(http_response.read()))\n",
    "    files = zipfile.namelist()\n",
    "    for file in files:\n",
    "        if directory_to_download in file:\n",
    "            outfile = file[file.find (directory_to_download):]\n",
    "            outdir = os.path.dirname (outfile)\n",
    "            if not os.path.exists (outdir):\n",
    "                os.makedirs (outdir, exist_ok=True)\n",
    "            if not file.endswith (\"/\"):\n",
    "              #  print (file)\n",
    "              #  print (outfile)\n",
    "                zipfile.extract (file, \".\")\n",
    "                shutil.copy (file, outfile)\n",
    "            \n",
    "    \n",
    "repository = \"https://github.com/pauline-ng/holmes/archive/refs/heads/master.zip\"\n",
    "\n",
    "\n",
    "download_files (repository, \"pics/people_database\")\n",
    "download_files(repository, \"pics/asst_manager\")"
   ]
  },
  {
   "cell_type": "code",
   "execution_count": 3,
   "metadata": {},
   "outputs": [
    {
     "ename": "AttributeError",
     "evalue": "module 'face_recognition' has no attribute 'load_image_file'",
     "output_type": "error",
     "traceback": [
      "\u001b[0;31m---------------------------------------------------------------------------\u001b[0m",
      "\u001b[0;31mAttributeError\u001b[0m                            Traceback (most recent call last)",
      "\u001b[0;32m<ipython-input-3-7881824e281c>\u001b[0m in \u001b[0;36m<module>\u001b[0;34m\u001b[0m\n\u001b[1;32m      1\u001b[0m \u001b[0;32mimport\u001b[0m \u001b[0mcv2\u001b[0m\u001b[0;34m\u001b[0m\u001b[0;34m\u001b[0m\u001b[0m\n\u001b[1;32m      2\u001b[0m \u001b[0;32mimport\u001b[0m \u001b[0msys\u001b[0m\u001b[0;34m\u001b[0m\u001b[0;34m\u001b[0m\u001b[0m\n\u001b[0;32m----> 3\u001b[0;31m \u001b[0;32mimport\u001b[0m \u001b[0mface_recognition\u001b[0m\u001b[0;34m\u001b[0m\u001b[0;34m\u001b[0m\u001b[0m\n\u001b[0m\u001b[1;32m      4\u001b[0m \u001b[0;32mimport\u001b[0m \u001b[0mnumpy\u001b[0m \u001b[0;32mas\u001b[0m \u001b[0mnp\u001b[0m\u001b[0;34m\u001b[0m\u001b[0;34m\u001b[0m\u001b[0m\n\u001b[1;32m      5\u001b[0m \u001b[0;32mimport\u001b[0m \u001b[0mos\u001b[0m\u001b[0;34m\u001b[0m\u001b[0;34m\u001b[0m\u001b[0m\n",
      "\u001b[0;32m/bigdrive/holmes/RedHeaded_League/face_recognition.py\u001b[0m in \u001b[0;36m<module>\u001b[0;34m\u001b[0m\n\u001b[1;32m     83\u001b[0m     \u001b[0;32mreturn\u001b[0m \u001b[0;32mNone\u001b[0m\u001b[0;34m\u001b[0m\u001b[0;34m\u001b[0m\u001b[0m\n\u001b[1;32m     84\u001b[0m \u001b[0;34m\u001b[0m\u001b[0m\n\u001b[0;32m---> 85\u001b[0;31m \u001b[0mface_database\u001b[0m \u001b[0;34m=\u001b[0m \u001b[0mread_face_database\u001b[0m \u001b[0;34m(\u001b[0m\u001b[0mdatabase_dir\u001b[0m\u001b[0;34m)\u001b[0m\u001b[0;34m\u001b[0m\u001b[0;34m\u001b[0m\u001b[0m\n\u001b[0m\u001b[1;32m     86\u001b[0m \u001b[0masst_manager_pic\u001b[0m \u001b[0;34m=\u001b[0m  \u001b[0mos\u001b[0m\u001b[0;34m.\u001b[0m\u001b[0mpath\u001b[0m\u001b[0;34m.\u001b[0m\u001b[0mjoin\u001b[0m \u001b[0;34m(\u001b[0m\u001b[0mcur_direc\u001b[0m\u001b[0;34m,\u001b[0m \u001b[0;34m'pics/asst_manager/john_clay_beard.png'\u001b[0m\u001b[0;34m)\u001b[0m\u001b[0;34m\u001b[0m\u001b[0;34m\u001b[0m\u001b[0m\n\u001b[1;32m     87\u001b[0m \u001b[0mface_to_search\u001b[0m \u001b[0;34m=\u001b[0m \u001b[0mface_recognition\u001b[0m\u001b[0;34m.\u001b[0m\u001b[0mload_image_file\u001b[0m\u001b[0;34m(\u001b[0m\u001b[0masst_manager_pic\u001b[0m\u001b[0;34m)\u001b[0m\u001b[0;34m\u001b[0m\u001b[0;34m\u001b[0m\u001b[0m\n",
      "\u001b[0;32m/bigdrive/holmes/RedHeaded_League/face_recognition.py\u001b[0m in \u001b[0;36mread_face_database\u001b[0;34m(database_dir)\u001b[0m\n\u001b[1;32m     57\u001b[0m     \u001b[0mlist_of_pic_files\u001b[0m \u001b[0;34m=\u001b[0m \u001b[0;34m[\u001b[0m\u001b[0mf\u001b[0m \u001b[0;32mfor\u001b[0m \u001b[0mf\u001b[0m \u001b[0;32min\u001b[0m \u001b[0mglob\u001b[0m\u001b[0;34m.\u001b[0m\u001b[0mglob\u001b[0m\u001b[0;34m(\u001b[0m\u001b[0mdatabase_dir\u001b[0m\u001b[0;34m+\u001b[0m\u001b[0;34m'*.png'\u001b[0m\u001b[0;34m)\u001b[0m\u001b[0;34m]\u001b[0m\u001b[0;34m\u001b[0m\u001b[0;34m\u001b[0m\u001b[0m\n\u001b[1;32m     58\u001b[0m     \u001b[0;32mfor\u001b[0m \u001b[0mface_pic_file\u001b[0m \u001b[0;32min\u001b[0m \u001b[0mlist_of_pic_files\u001b[0m\u001b[0;34m:\u001b[0m\u001b[0;34m\u001b[0m\u001b[0;34m\u001b[0m\u001b[0m\n\u001b[0;32m---> 59\u001b[0;31m         \u001b[0mface_image\u001b[0m \u001b[0;34m=\u001b[0m  \u001b[0mface_recognition\u001b[0m\u001b[0;34m.\u001b[0m\u001b[0mload_image_file\u001b[0m\u001b[0;34m(\u001b[0m\u001b[0mface_pic_file\u001b[0m\u001b[0;34m)\u001b[0m\u001b[0;34m\u001b[0m\u001b[0;34m\u001b[0m\u001b[0m\n\u001b[0m\u001b[1;32m     60\u001b[0m         \u001b[0mface_encoding\u001b[0m \u001b[0;34m=\u001b[0m \u001b[0mface_recognition\u001b[0m\u001b[0;34m.\u001b[0m\u001b[0mface_encodings\u001b[0m \u001b[0;34m(\u001b[0m\u001b[0mface_image\u001b[0m\u001b[0;34m)\u001b[0m\u001b[0;34m[\u001b[0m\u001b[0;36m0\u001b[0m\u001b[0;34m]\u001b[0m\u001b[0;34m\u001b[0m\u001b[0;34m\u001b[0m\u001b[0m\n\u001b[1;32m     61\u001b[0m         \u001b[0mname\u001b[0m \u001b[0;34m=\u001b[0m \u001b[0mface_pic_file\u001b[0m\u001b[0;34m.\u001b[0m\u001b[0mreplace\u001b[0m \u001b[0;34m(\u001b[0m\u001b[0mdatabase_dir\u001b[0m\u001b[0;34m,\u001b[0m \u001b[0;34m\"\"\u001b[0m\u001b[0;34m)\u001b[0m\u001b[0;34m.\u001b[0m\u001b[0mreplace\u001b[0m \u001b[0;34m(\u001b[0m\u001b[0;34m\".png\"\u001b[0m\u001b[0;34m,\u001b[0m \u001b[0;34m\"\"\u001b[0m\u001b[0;34m)\u001b[0m\u001b[0;34m\u001b[0m\u001b[0;34m\u001b[0m\u001b[0m\n",
      "\u001b[0;31mAttributeError\u001b[0m: module 'face_recognition' has no attribute 'load_image_file'"
     ]
    }
   ],
   "source": [
    "\n",
    "database_dir = os.path.join (cur_direc, 'pics/people_database/')\n",
    "\n",
    "def read_face_database (database_dir):\n",
    "    db_of_images = {}\n",
    "    list_of_pic_files = [f for f in glob.glob(database_dir+'*.png')]\n",
    "    for face_pic_file in list_of_pic_files:\n",
    "        face_image =  face_recognition.load_image_file(face_pic_file)\n",
    "        face_encoding = face_recognition.face_encodings (face_image)[0]\n",
    "        name = face_pic_file.replace (database_dir, \"\").replace (\".png\", \"\")\n",
    "        db_of_images[name] = face_encoding\n",
    "        \n",
    "    print (\"database has been loaded with \" + str(len (list_of_files)) + \" faces\")\n",
    "    return db_of_images\n",
    "\n",
    "# face recognition part\n",
    "def face_recognition_search (face_database, encoded_face_to_search):\n",
    "#    face_names = []\n",
    "    #for face_encoding in faces_encodings:\n",
    "    \n",
    "    face_encodings = list (face_database.values())\n",
    "    face_names = list (face_database.keys())\n",
    "    match_results = face_recognition.compare_faces (face_encodings, encoded_face_to_search)\n",
    "    \n",
    "    # go through the match results and print out \n",
    "    # the names the picture matched\n",
    "    for i, match_result in enumerate (match_results):\n",
    "        if match_result == True:\n",
    "            return face_names[i]\n",
    "        \n",
    "    # no matches found, return None\n",
    "    return None\n",
    "\n",
    "\n",
    "face_database = read_face_database (\"./pics/people_database/\")\n",
    "asst_manager_pic =  \"./pics/asst_manager/john_clay_beard.png\"\n",
    "face_to_search = face_recognition.load_image_file(asst_manager_pic)\n",
    "encoded_face_to_search = face_recognition.face_encodings (face_to_search)[0]\n",
    "\n",
    "name_search_result = face_recognition_search (face_database, encoded_face_to_search)\n",
    "print (asst_manager_pic + \" matches \"+ name_search_result)"
   ]
  },
  {
   "cell_type": "code",
   "execution_count": null,
   "metadata": {},
   "outputs": [],
   "source": []
  },
  {
   "cell_type": "code",
   "execution_count": null,
   "metadata": {},
   "outputs": [],
   "source": []
  },
  {
   "cell_type": "code",
   "execution_count": null,
   "metadata": {},
   "outputs": [],
   "source": []
  }
 ],
 "metadata": {
  "kernelspec": {
   "display_name": "Python 3",
   "language": "python",
   "name": "python3"
  },
  "language_info": {
   "codemirror_mode": {
    "name": "ipython",
    "version": 3
   },
   "file_extension": ".py",
   "mimetype": "text/x-python",
   "name": "python",
   "nbconvert_exporter": "python",
   "pygments_lexer": "ipython3",
   "version": "3.6.9"
  }
 },
 "nbformat": 4,
 "nbformat_minor": 4
}
