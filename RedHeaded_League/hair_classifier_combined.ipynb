{
 "cells": [
  {
   "cell_type": "markdown",
   "metadata": {},
   "source": [
    "# Read in the images (X) and their hair color labels (Y)"
   ]
  },
  {
   "cell_type": "code",
   "execution_count": 16,
   "metadata": {},
   "outputs": [
    {
     "name": "stdout",
     "output_type": "stream",
     "text": [
      "  % Total    % Received % Xferd  Average Speed   Time    Time     Time  Current\n",
      "                                 Dload  Upload   Total   Spent    Left  Speed\n",
      "100 66714    0 66714    0     0   119k      0 --:--:-- --:--:-- --:--:--  118k\n"
     ]
    }
   ],
   "source": [
    "#Download image files\n",
    "!gdown  --id 1ahOw9goNWSZKF4OdWzsMtiCL772ATT2H\n",
    "!tar -xf holmes_red_headed_league_data.tar.gz"
   ]
  },
  {
   "cell_type": "code",
   "execution_count": 12,
   "metadata": {
    "id": "kCEfP9uxuNXU"
   },
   "outputs": [
    {
     "name": "stdout",
     "output_type": "stream",
     "text": [
      "read in 33 images\n"
     ]
    }
   ],
   "source": [
    "from skimage import io as skimage_io\n",
    "from skimage.transform import resize\n",
    "import os, io, glob\n",
    "from IPython.display import Image, display\n",
    "from IPython.core.display import display, HTML\n",
    "\n",
    "images =[]\n",
    "labels = []\n",
    "\n",
    "\n",
    "# these hair color pics were downloaded from IMDB's list of actresses that were\n",
    "# \"blonde\", \"brunette\", and \"red heads\"\n",
    "# example https://www.imdb.com/list/ls058386015/  -- a list of blonde actresses\n",
    "folders = [\"data/blonde/blonde*jpg\", \"data/brunette/brown*jpg\", \"data/redheads/red*jpg\"]\n",
    "\n",
    "# assign jpg_files all of the hair-colored jpgs\n",
    "jpg_files = []\n",
    "for folder in folders:\n",
    "    jpg_files.extend (glob.glob (folder))\n",
    "\n",
    "\n",
    "\n",
    "IMG_PX_SIZE = 20 # pixels. All pictures will be resized to IMG_PX_SIZE x IMG_PX_SIZE\n",
    "\n",
    "\n",
    "for jpg_file in jpg_files:\n",
    "    \n",
    "    # assign the hair color of this image to label.\n",
    "    # e.g. filename \"red1.jpg\" becomes red, \"brown2.jpg\" becomes brown\n",
    "    label = os.path.basename (jpg_file).replace (\".jpg\", \"\")\n",
    "    label = ''.join([i for i in label if not i.isdigit()]) \n",
    "\n",
    "    # read the image into rgb_img\n",
    "    rgb_img = skimage_io.imread (jpg_file)\n",
    "    \n",
    "    # resize the image, so all images have the same size\n",
    "    rgb_img = resize (rgb_img, (IMG_PX_SIZE,IMG_PX_SIZE))\n",
    "\n",
    "    # store the picture information in X, and the hair color in Y\n",
    "    # we will try to predict Y based on X (predict hair color based on a picture)\n",
    "    images.append (rgb_img.reshape (1, IMG_PX_SIZE*IMG_PX_SIZE*3)[0]) # flatten into a 1-D array\n",
    "    labels.append (label)\n",
    "    \n",
    "    display (HTML(label))\n",
    "    display(Image(filename=jpg_file))\n",
    "    \n",
    "print (\"read in \" + str (len(images)) + \" images\")"
   ]
  },
  {
   "cell_type": "markdown",
   "metadata": {
    "id": "4wDEQEwCuNXX"
   },
   "source": [
    "# Create a classifier\n",
    "\n",
    "This is a machine learning method that creates groups based on the labels we provide it. In this case, we are creating 3 groups (blonde, red, brunette). The model will learn from the blonde, red, brunette pictures (X) and will make a classifier based on the labels provided (Y). \n"
   ]
  },
  {
   "cell_type": "code",
   "execution_count": 30,
   "metadata": {
    "colab": {
     "base_uri": "https://localhost:8080/"
    },
    "id": "ujxQj0K4uNXY",
    "outputId": "62551746-71f2-4e18-d940-461119b46e78"
   },
   "outputs": [
    {
     "data": {
      "text/plain": [
       "KNeighborsClassifier(n_neighbors=3)"
      ]
     },
     "execution_count": 30,
     "metadata": {},
     "output_type": "execute_result"
    }
   ],
   "source": [
    "from sklearn.neighbors import KNeighborsClassifier\n",
    "\n",
    "num_groups = 3  # blonde, red, brunette\n",
    "\n",
    "# initialize the model with KNeighborsClassifier and the number of groups\n",
    "hair_classifer = KNeighborsClassifier(n_neighbors=num_groups)\n",
    "\n",
    "# make the classifier based on X (pictures) and Y (their hair color labels)\n",
    "hair_classifier.fit (images, labels)\n",
    "\n"
   ]
  },
  {
   "cell_type": "markdown",
   "metadata": {},
   "source": [
    "# Calculate classifier's performance\n",
    "\n",
    "Given an image (X), what does the model predict\n",
    "Compare the model's predictions with the true labels (Y)"
   ]
  },
  {
   "cell_type": "code",
   "execution_count": 31,
   "metadata": {},
   "outputs": [
    {
     "data": {
      "text/plain": [
       "0.9393939393939394"
      ]
     },
     "execution_count": 31,
     "metadata": {},
     "output_type": "execute_result"
    }
   ],
   "source": [
    "from sklearn.metrics import accuracy_score\n",
    "\n",
    "predicted_labels = hair_classifier.predict (images)\n",
    "\n",
    "# get accuracy of K-neighbors classifier\n",
    "accuracy_score (labels,predicted_labels )"
   ]
  },
  {
   "cell_type": "markdown",
   "metadata": {},
   "source": [
    "The classifier is 94% accurate."
   ]
  },
  {
   "cell_type": "markdown",
   "metadata": {
    "id": "sXjf3iS8uNXe"
   },
   "source": [
    "# Visualization of the Classifier"
   ]
  },
  {
   "cell_type": "code",
   "execution_count": null,
   "metadata": {},
   "outputs": [],
   "source": [
    "from mlxtend.plotting import plot_decision_regions\n",
    "from sklearn.decomposition import PCA\n",
    "from sklearn.preprocessing import LabelEncoder\n",
    "import matplotlib.pyplot as plt\n",
    "\n",
    "# turn red, blonde, brown hair labels into integers so sklearn can read it\n",
    "label_encoder = LabelEncoder()\n",
    "label_encoder.fit (labels)\n",
    "Y_encoded = label_encoder.transform(labels)\n",
    "le_name_mapping = dict(zip(label_encoder.transform(label_encoder.classes_), label_encoder.classes_))\n",
    "\n",
    "# for plotting, get the 2 most important PCA components\n",
    "pca = PCA(n_components = 2)\n",
    "X_2 = pca.fit_transform(images)\n",
    "vis_model = model.fit(X_2, Y_encoded)\n",
    "\n",
    "#clf is the classifier object\n",
    "plot_decision_regions(X_2, Y_encoded, clf=vis_model, legend=2)\n",
    "\n",
    "handles, labels =  plt.gca().get_legend_handles_labels()\n",
    "print (list(map(le_name_mapping.get, [int(i) for i in le_name_mapping])))\n",
    "plt.legend(handles, list(map(le_name_mapping.get, [int(i) for i in le_name_mapping])))\n",
    "\n",
    "\n",
    "plt.xlabel(\"PCA1\", size=14)\n",
    "plt.ylabel(\"PCA2\", size=14)\n",
    "plt.title(\"K Neighbors Classifier with 3 Groups (K=3)\")\n",
    "plt.show()"
   ]
  },
  {
   "cell_type": "markdown",
   "metadata": {
    "id": "HxJAtjNSuNXh"
   },
   "source": [
    "# Classify Wilson's hair\n",
    "\n",
    "Put the image (wilsons_hair.jpg) in exactly the same format as the other pictures so we can feed it into the classifier\n"
   ]
  },
  {
   "cell_type": "markdown",
   "metadata": {},
   "source": [
    "## Read in the image of Wilson's hair and make it the same size as the other images"
   ]
  },
  {
   "cell_type": "code",
   "execution_count": 33,
   "metadata": {
    "id": "OUN9Sq8NuNXh"
   },
   "outputs": [],
   "source": [
    "# read Wilson's hair\n",
    "\n",
    "from skimage import io as skimage_io\n",
    "from skimage.transform import resize\n",
    "\n",
    "jpg_file = \"data/wilsons_hair.jpg\"\n",
    "\n",
    "# read picture into rgb_img\n",
    "display(Image(filename=jpg_file))\n",
    "rgb_img = skimage_io.imread (jpg_file)\n",
    "    \n",
    "# resize the image to same as the other jpg's used to create the classifier\n",
    "\n",
    "rgb_img = resize (rgb_img, (IMG_PX_SIZE,IMG_PX_SIZE))\n",
    "\n",
    "# store the picture information in X\n",
    "# flatten the 3 channels red, green, blue into a 1-D array with the reshape command\n",
    "wilsons_hair = []\n",
    "wilsons_hair.append (rgb_img.reshape (1, IMG_PX_SIZE*IMG_PX_SIZE*3)[0])\n",
    "\n"
   ]
  },
  {
   "cell_type": "markdown",
   "metadata": {},
   "source": [
    "## Classify Wilson's hair color, and look at the probability / confidence of this classification"
   ]
  },
  {
   "cell_type": "code",
   "execution_count": null,
   "metadata": {},
   "outputs": [],
   "source": [
    "prediction = hair_classifier.predict (wilsons_hair)\n",
    "print (\"Predicted hair color\")\n",
    "print (prediction[0])\n",
    "\n",
    "import pandas as pd\n",
    "prob_results = pd.DataFrame (hair_classifier.predict_proba (wilsons_hair), columns = hair_classifier.classes_)\n",
    "print (\"\\nProbability\")\n",
    "print (output.to_string (index=False))"
   ]
  }
 ],
 "metadata": {
  "celltoolbar": "Tags",
  "colab": {
   "collapsed_sections": [],
   "name": "Copy of hair_color.ipynb",
   "provenance": []
  },
  "kernelspec": {
   "display_name": "Python 3",
   "language": "python",
   "name": "python3"
  },
  "language_info": {
   "codemirror_mode": {
    "name": "ipython",
    "version": 3
   },
   "file_extension": ".py",
   "mimetype": "text/x-python",
   "name": "python",
   "nbconvert_exporter": "python",
   "pygments_lexer": "ipython3",
   "version": "3.6.9"
  }
 },
 "nbformat": 4,
 "nbformat_minor": 1
}
