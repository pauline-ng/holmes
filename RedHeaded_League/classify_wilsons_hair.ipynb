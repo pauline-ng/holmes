{
 "cells": [
  {
   "cell_type": "code",
   "execution_count": 2,
   "metadata": {},
   "outputs": [],
   "source": [
    "import pickle\n",
    "\n",
    "#Upload the hair-color classifier we created in the previous exercise\n",
    "hair_classifier = pickle.load (open ('hair_color.pkl', 'rb'))\n",
    "\n"
   ]
  },
  {
   "cell_type": "code",
   "execution_count": 5,
   "metadata": {},
   "outputs": [],
   "source": [
    "# read Wilson's hair\n",
    "\n",
    "from skimage import io as skimage_io\n",
    "from skimage.transform import resize\n",
    "\n",
    "jpg_file = \"pics/wilsons_hair.jpg\"\n",
    "\n",
    "# read picture into rgb_img\n",
    "rgb_img = skimage_io.imread (jpg_file)\n",
    "    \n",
    "# resize the image to 20x20, same as the other jpg's used to create the classifier\n",
    "IMG_PX_SIZE = 20\n",
    "rgb_img = resize (rgb_img, (IMG_PX_SIZE,IMG_PX_SIZE))\n",
    "\n",
    "# store the picture information in X\n",
    "# flatten the 3 channels red, green, blue into a 1-D array with the reshape command\n",
    "X = []\n",
    "X.append (rgb_img.reshape (1, IMG_PX_SIZE*IMG_PX_SIZE*3)[0])\n",
    "    "
   ]
  },
  {
   "cell_type": "code",
   "execution_count": 6,
   "metadata": {},
   "outputs": [
    {
     "data": {
      "text/plain": [
       "array(['red'], dtype='<U6')"
      ]
     },
     "execution_count": 6,
     "metadata": {},
     "output_type": "execute_result"
    }
   ],
   "source": [
    "# predict the hair color\n",
    "hair_classifier.predict (X)"
   ]
  },
  {
   "cell_type": "code",
   "execution_count": null,
   "metadata": {},
   "outputs": [],
   "source": []
  }
 ],
 "metadata": {
  "kernelspec": {
   "display_name": "Python 3",
   "language": "python",
   "name": "python3"
  },
  "language_info": {
   "codemirror_mode": {
    "name": "ipython",
    "version": 3
   },
   "file_extension": ".py",
   "mimetype": "text/x-python",
   "name": "python",
   "nbconvert_exporter": "python",
   "pygments_lexer": "ipython3",
   "version": "3.6.9"
  }
 },
 "nbformat": 4,
 "nbformat_minor": 4
}
