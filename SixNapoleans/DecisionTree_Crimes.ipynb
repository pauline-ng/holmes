{
 "cells": [
  {
   "cell_type": "markdown",
   "metadata": {},
   "source": [
    "   It was no very unusual thing for Mr Lestrade, of Scotland Yard, to look in upon us of an evening, and his visits were welcome to Sherlock Holmes, for they enabled him to keep in touch with all that was going on at the police headquarters. In return for the news which Lestrade would bring, Holmes was always ready to listen with attention to the details of any case upon which the detective was engaged, and was able occasionally, without any active interference, to give some hint or suggestion drawn from his own vast databases and machine learning models.\n",
    "   \n",
    "   \n",
    "On this particular evening Lestrade had spoken of the weather and the newspapers. Then he had fallen silent, puffing thoughtfully at his cigar. \n",
    "\n",
    "\n",
    "\"Anything remarkable on hand?\" Holmes asked.\n",
    "\n",
    "\n",
    "'Oh, no, Mr Holmes, nothing very particular.'\n",
    "\n",
    "'Then tell me all about it.' Holmes likely deduced this visit had a purpose.\n",
    "\n",
    "\n",
    "Lestrade laughed.\n",
    "\n",
    "\n",
    "'Well, Mr Holmes, there is no use denying that there is something on my mind. And yet it is such an absurd business that I hesitated to bother you about it. On the other hand, although it is trivial, it is undoubtedly queer, and I know that you have a taste for all that is out of the common. But in my opinion it comes more in Dr Watson's line that ours.'\n",
    "\n",
    "\n",
    "'Disease?' said I.\n",
    "\n",
    "\n",
    "'Madness, anyhow. And a queer madness too! You wouldn't think there was anyone living at this time of day who had such a hatred of garden gnomes that he would break any statue he could see.'\n",
    "\n",
    "\n",
    "Holmes’ screen turned to the default background.\n",
    "\n",
    "\n",
    "'That's no business of mine,' said he.\n",
    "\n",
    "\n",
    "“Perhaps it is OCD,” I suggested.\n",
    "\n",
    "\n",
    "“Exactly. That’s what I thought. But then, when the man trespasses on obvious private property in order to break statues that are not visible to the outside environment, that brings it away from the medical field and on to the criminal department.”\n",
    "\n",
    "\n",
    "“Trespassing! That is interesting. Let me hear the details.” Holmes said.\n",
    "\n",
    "\n",
    "Lestrade took out his cell phone to refresh his memory. \n",
    "\n",
    "\n",
    "“The first case reported was four days ago,” said he. “It was at the shop of Green Garden Art, who sells local handcrafted lawn ornaments among other tsotchkes His front yard has a collection of gnomes. The assistant had left the front shop for an instant, when he heard a crash, and, hurrying in found this particular gnome lying shivered into fragments. \n",
    "\n",
    "<img src=\"gnome_on_toilet.jpeg\" alt=\"Gnome\" title=\"Broken gnome\" />\n",
    "\n",
    "The other gnomes were untouched. He rushed out into the road, but, although several passers-by declared that they had noticed a man run out, he could neither see anyone nor could he find any means of identifying the rascal. It seemed to be one of those senseless acts of Hooliganism which occur from time to time, and it was reported by a small news site as a filler. It was reported to the police following proper procedure but the whole affair appeared to be too childish for any particular investigation.\n",
    "\n",
    "\n",
    "“The second case, however, was more serious and also more singular. It occurred only last night. On Hill Street, there lives a lawyer, named Louise Barnicot. Her residence, where she sometimes receives clients, is on Hill Street. She is also partner in a small law firm at Brixton Road, two miles away. Ms. Barnicot is an enthusiastic collector of gnomes, and her garden is full of gnome figures. Some little time ago she purchased from Green Garden Art two duplicate plaster casts of the same gnome. One she placed in the garden at her house on Hill Street, and the other in the loo of the surgery at Brixton Road. Well, when Ms. Barnicot came down this morning she was astonished to find that someone had trespassed into her garden during the night, but that nothing had been taken save the gnome. It had been dashed savagely against the garden wall, under which its splintered fragments were discovered.”\n",
    "\n",
    "\n",
    "Holmes went dark, indicating he was using his RAM for full contemplation.\n",
    "\n",
    "\n",
    "“This is certainly very novel,” said Holmes.\n",
    "\n",
    "\n",
    "“I thought it would please you. But I have not got to the end yet. Ms. Barnicot was due for an appointment at twelve o’clock, and you can imagine her amazement when, on arriving there and visiting the loo, she found that the broken pieces of her second bust were strewn all over the bathroom. It had been smashed to atoms where it stood. The night cleaner attests that the bathroom was cleaned and nothing was out of order and has no reason to lie. In neither case were there any signs which could give us a clue as to the criminal or lunatic who had done the mischief. Now, Holmes, you have got the facts.”\n",
    "\n",
    "\n",
    "“They are singular, not to say grotesque,” said Holmes. “May I ask whether the two gnomes smashed in Ms. Barnicot’s rooms were the exact duplicates of the one which was destroyed in Green Garden Art’s shop?”\n",
    "\n",
    "\n",
    "“They were taken from the same mould.”\n",
    "\n",
    "\n",
    "“Such a fact must tell against the theory that the man who breaks them is influenced by any general hatred of garden gnomes.”\n",
    "\n",
    "\n",
    "“Lestrade, what is the chance of vandalism in this city by chance?”\n",
    "\n",
    "\n",
    "Lestrade handed me a thumb drive, which I uploaded to Sherlock.\n",
    "\n",
    "\n",
    "   “It’s intriguing that the gnomes were all smashed to bits as theft would be more common than criminal damage.” Sherlock observed.\n",
    "\n",
    "\n",
    "Sherlock read in the file.\n"
   ]
  },
  {
   "cell_type": "code",
   "execution_count": 9,
   "metadata": {},
   "outputs": [
    {
     "data": {
      "text/html": [
       "<div>Show/Hide</div>"
      ],
      "text/plain": [
       "<IPython.core.display.HTML object>"
      ]
     },
     "metadata": {},
     "output_type": "display_data"
    },
    {
     "data": {
      "text/html": [
       "<!DOCTYPE html>\n",
       "<html>\n",
       "<head>\n",
       "<style>\n",
       "#panel, .flip {\n",
       "  font-size: 16px;\n",
       "  padding: 10px;\n",
       "  text-align: center;\n",
       "  background-color: #4CAF50;\n",
       "  color: white;\n",
       "  border: solid 1px #a6d8a8;\n",
       "  margin: auto;\n",
       "}\n",
       "\n",
       "#panel {\n",
       "  display: none;\n",
       "}\n",
       "</style>\n",
       "</head>\n",
       "<body>\n",
       "\n",
       "<p class=\"flip\" onclick=\"myFunction()\">Click to show panel</p>\n",
       "\n",
       "<div id=\"panel\">\n",
       "# Read in crimes database\n",
       "crimes_df = pd.read_csv (\"./Crimes_and_LawnOrnaments.csv\", sep=\",\", header=0) # read in the database of crimes\n",
       "</div>\n",
       "\n",
       "<script>\n",
       "function myFunction() {\n",
       "  document.getElementById(\"panel\").style.display = \"block\";\n",
       "}\n",
       "</script>\n",
       "\n",
       "</body>\n",
       "</html>\n",
       "\n",
       "\n",
       "\n",
       "\n"
      ],
      "text/plain": [
       "<IPython.core.display.HTML object>"
      ]
     },
     "metadata": {},
     "output_type": "display_data"
    }
   ],
   "source": [
    "from IPython.display import display, HTML\n",
    "\n",
    "display (HTML(\"./showAnswer.html\"))"
   ]
  },
  {
   "cell_type": "code",
   "execution_count": 6,
   "metadata": {},
   "outputs": [
    {
     "name": "stderr",
     "output_type": "stream",
     "text": [
      "In /home/pauline/.local/lib/python3.6/site-packages/matplotlib/mpl-data/stylelib/_classic_test.mplstyle: \n",
      "The text.latex.preview rcparam was deprecated in Matplotlib 3.3 and will be removed two minor releases later.\n",
      "In /home/pauline/.local/lib/python3.6/site-packages/matplotlib/mpl-data/stylelib/_classic_test.mplstyle: \n",
      "The mathtext.fallback_to_cm rcparam was deprecated in Matplotlib 3.3 and will be removed two minor releases later.\n",
      "In /home/pauline/.local/lib/python3.6/site-packages/matplotlib/mpl-data/stylelib/_classic_test.mplstyle: Support for setting the 'mathtext.fallback_to_cm' rcParam is deprecated since 3.3 and will be removed two minor releases later; use 'mathtext.fallback : 'cm' instead.\n",
      "In /home/pauline/.local/lib/python3.6/site-packages/matplotlib/mpl-data/stylelib/_classic_test.mplstyle: \n",
      "The validate_bool_maybe_none function was deprecated in Matplotlib 3.3 and will be removed two minor releases later.\n",
      "In /home/pauline/.local/lib/python3.6/site-packages/matplotlib/mpl-data/stylelib/_classic_test.mplstyle: \n",
      "The savefig.jpeg_quality rcparam was deprecated in Matplotlib 3.3 and will be removed two minor releases later.\n",
      "In /home/pauline/.local/lib/python3.6/site-packages/matplotlib/mpl-data/stylelib/_classic_test.mplstyle: \n",
      "The keymap.all_axes rcparam was deprecated in Matplotlib 3.3 and will be removed two minor releases later.\n",
      "In /home/pauline/.local/lib/python3.6/site-packages/matplotlib/mpl-data/stylelib/_classic_test.mplstyle: \n",
      "The animation.avconv_path rcparam was deprecated in Matplotlib 3.3 and will be removed two minor releases later.\n",
      "In /home/pauline/.local/lib/python3.6/site-packages/matplotlib/mpl-data/stylelib/_classic_test.mplstyle: \n",
      "The animation.avconv_args rcparam was deprecated in Matplotlib 3.3 and will be removed two minor releases later.\n"
     ]
    }
   ],
   "source": [
    "# Visualization Libraries\n",
    "import matplotlib\n",
    "import matplotlib.pyplot as plt\n",
    "import seaborn as sns\n",
    "\n",
    "#Preprocessing Libraries\n",
    "import pandas as pd\n",
    "from sklearn.model_selection import train_test_split\n",
    "from sklearn.metrics import precision_score, recall_score, confusion_matrix, classification_report, accuracy_score, f1_score\n",
    "\n",
    "# ML Libraries\n",
    "from sklearn.ensemble import RandomForestClassifier,VotingClassifier\n",
    "from sklearn.neighbors import KNeighborsClassifier\n",
    "from sklearn.neural_network import MLPClassifier\n",
    "\n",
    "# Evaluation Metrics\n",
    "\n",
    "from sklearn import metrics"
   ]
  },
  {
   "cell_type": "code",
   "execution_count": 7,
   "metadata": {},
   "outputs": [],
   "source": [
    "\n",
    "# Read in crimes database\n",
    "crimes_df = pd.read_csv (\"./Crimes_and_LawnOrnaments.csv\", sep=\",\", header=0) # read in the database of crimes\n",
    "\n",
    "\n",
    "\n"
   ]
  },
  {
   "cell_type": "code",
   "execution_count": 117,
   "metadata": {},
   "outputs": [],
   "source": [
    "\n",
    "# generating the lawn ornament random data\n",
    "#crimes_df[\"Gnome\"] = False\n",
    "#crimes_df[\"Flamingo\"] = False\n",
    "\n",
    "#import numpy as np\n",
    "#crimes_df[\"random\"] = np.random.randint (0,100, size=crimes_df.shape[0]) \n",
    "#crimes_df[\"Flamingo\"] = crimes_df.apply (lambda row: True if row[\"random\"] < 1 else row[\"Flamingo\"], axis=1)\n",
    "#crimes_df[\"Gnome\"] = crimes_df.apply (lambda row: True if row[\"random\"] < 2 and row[\"random\"] >= 1 else row[\"Gnome\"], axis=1)\n",
    "#crimes_df = crimes_df.drop (\"random\",1)\n",
    "#crimes_df.to_csv (\"./Crimes_and_LawnOrnaments.csv\", index=False,sep=\",\")\n",
    "# Preprocessing\n",
    "# Remove NaN Value\n",
    "crimes_df = crimes_df.dropna ()"
   ]
  },
  {
   "cell_type": "markdown",
   "metadata": {},
   "source": [
    "\n",
    "\n",
    "\n",
    "Holmes has a data set with a target variable that can have 7 different labels. Each sample in my training set has only one label for the target variable.\n",
    "\n",
    "For each sample, I want to calculate the probability for each of the target labels. So my prediction would consist of 7 probabilities for each row.\n",
    "\n",
    "clf = DecisionTreeClassifier()\n",
    "clf.fit(X_train, y_train)\n",
    "pred = clf.predict_proba(X_test)"
   ]
  },
  {
   "cell_type": "code",
   "execution_count": 118,
   "metadata": {},
   "outputs": [
    {
     "data": {
      "text/html": [
       "<div>\n",
       "<style scoped>\n",
       "    .dataframe tbody tr th:only-of-type {\n",
       "        vertical-align: middle;\n",
       "    }\n",
       "\n",
       "    .dataframe tbody tr th {\n",
       "        vertical-align: top;\n",
       "    }\n",
       "\n",
       "    .dataframe thead th {\n",
       "        text-align: right;\n",
       "    }\n",
       "</style>\n",
       "<table border=\"1\" class=\"dataframe\">\n",
       "  <thead>\n",
       "    <tr style=\"text-align: right;\">\n",
       "      <th></th>\n",
       "      <th>ID</th>\n",
       "      <th>Case Number</th>\n",
       "      <th>Date</th>\n",
       "      <th>Block</th>\n",
       "      <th>IUCR</th>\n",
       "      <th>Primary Type</th>\n",
       "      <th>Description</th>\n",
       "      <th>Location Description</th>\n",
       "      <th>Beat</th>\n",
       "      <th>District</th>\n",
       "      <th>Gnome</th>\n",
       "      <th>Flamingo</th>\n",
       "    </tr>\n",
       "  </thead>\n",
       "  <tbody>\n",
       "    <tr>\n",
       "      <th>0</th>\n",
       "      <td>12166069</td>\n",
       "      <td>JD367698</td>\n",
       "      <td>02/01/2019 09:00:00 AM</td>\n",
       "      <td>038XX N KEDZIE AVE</td>\n",
       "      <td>1153</td>\n",
       "      <td>DECEPTIVE PRACTICE</td>\n",
       "      <td>FINANCIAL IDENTITY THEFT OVER $ 300</td>\n",
       "      <td>RESIDENCE</td>\n",
       "      <td>1733</td>\n",
       "      <td>17</td>\n",
       "      <td>False</td>\n",
       "      <td>False</td>\n",
       "    </tr>\n",
       "    <tr>\n",
       "      <th>1</th>\n",
       "      <td>12165613</td>\n",
       "      <td>JD367042</td>\n",
       "      <td>08/20/2019 01:00:00 PM</td>\n",
       "      <td>054XX N BROADWAY</td>\n",
       "      <td>890</td>\n",
       "      <td>THEFT</td>\n",
       "      <td>FROM BUILDING</td>\n",
       "      <td>NURSING / RETIREMENT HOME</td>\n",
       "      <td>2013</td>\n",
       "      <td>20</td>\n",
       "      <td>False</td>\n",
       "      <td>False</td>\n",
       "    </tr>\n",
       "    <tr>\n",
       "      <th>2</th>\n",
       "      <td>12165481</td>\n",
       "      <td>JD366983</td>\n",
       "      <td>08/13/2019 10:00:00 AM</td>\n",
       "      <td>060XX S SANGAMON ST</td>\n",
       "      <td>1153</td>\n",
       "      <td>DECEPTIVE PRACTICE</td>\n",
       "      <td>FINANCIAL IDENTITY THEFT OVER $ 300</td>\n",
       "      <td>RESIDENCE</td>\n",
       "      <td>712</td>\n",
       "      <td>7</td>\n",
       "      <td>False</td>\n",
       "      <td>False</td>\n",
       "    </tr>\n",
       "    <tr>\n",
       "      <th>3</th>\n",
       "      <td>11786897</td>\n",
       "      <td>JC346780</td>\n",
       "      <td>07/13/2019 09:00:00 AM</td>\n",
       "      <td>001XX N PULASKI RD</td>\n",
       "      <td>2014</td>\n",
       "      <td>NARCOTICS</td>\n",
       "      <td>MANUFACTURE / DELIVER -  HEROIN (WHITE)</td>\n",
       "      <td>SIDEWALK</td>\n",
       "      <td>1114</td>\n",
       "      <td>11</td>\n",
       "      <td>False</td>\n",
       "      <td>False</td>\n",
       "    </tr>\n",
       "    <tr>\n",
       "      <th>4</th>\n",
       "      <td>11882608</td>\n",
       "      <td>JC491836</td>\n",
       "      <td>10/30/2019 10:25:00 AM</td>\n",
       "      <td>033XX W FILLMORE ST</td>\n",
       "      <td>1812</td>\n",
       "      <td>NARCOTICS</td>\n",
       "      <td>POSSESS - CANNABIS MORE THAN 30 GRAMS</td>\n",
       "      <td>POLICE FACILITY / VEHICLE PARKING LOT</td>\n",
       "      <td>1134</td>\n",
       "      <td>11</td>\n",
       "      <td>False</td>\n",
       "      <td>False</td>\n",
       "    </tr>\n",
       "  </tbody>\n",
       "</table>\n",
       "</div>"
      ],
      "text/plain": [
       "         ID Case Number                    Date                Block  IUCR  \\\n",
       "0  12166069    JD367698  02/01/2019 09:00:00 AM   038XX N KEDZIE AVE  1153   \n",
       "1  12165613    JD367042  08/20/2019 01:00:00 PM     054XX N BROADWAY   890   \n",
       "2  12165481    JD366983  08/13/2019 10:00:00 AM  060XX S SANGAMON ST  1153   \n",
       "3  11786897    JC346780  07/13/2019 09:00:00 AM   001XX N PULASKI RD  2014   \n",
       "4  11882608    JC491836  10/30/2019 10:25:00 AM  033XX W FILLMORE ST  1812   \n",
       "\n",
       "         Primary Type                              Description  \\\n",
       "0  DECEPTIVE PRACTICE      FINANCIAL IDENTITY THEFT OVER $ 300   \n",
       "1               THEFT                            FROM BUILDING   \n",
       "2  DECEPTIVE PRACTICE      FINANCIAL IDENTITY THEFT OVER $ 300   \n",
       "3           NARCOTICS  MANUFACTURE / DELIVER -  HEROIN (WHITE)   \n",
       "4           NARCOTICS    POSSESS - CANNABIS MORE THAN 30 GRAMS   \n",
       "\n",
       "                    Location Description  Beat  District  Gnome  Flamingo  \n",
       "0                              RESIDENCE  1733        17  False     False  \n",
       "1              NURSING / RETIREMENT HOME  2013        20  False     False  \n",
       "2                              RESIDENCE   712         7  False     False  \n",
       "3                               SIDEWALK  1114        11  False     False  \n",
       "4  POLICE FACILITY / VEHICLE PARKING LOT  1134        11  False     False  "
      ]
     },
     "execution_count": 118,
     "metadata": {},
     "output_type": "execute_result"
    }
   ],
   "source": [
    "crimes_df.head()"
   ]
  },
  {
   "cell_type": "code",
   "execution_count": 62,
   "metadata": {},
   "outputs": [],
   "source": [
    "# Convert Categorical Attributes to Numerical\n",
    "crimes_df['Block'] = pd.factorize(crimes_df[\"Block\"])[0]\n",
    "crimes_df['IUCR'] = pd.factorize(crimes_df[\"IUCR\"])[0]\n",
    "crimes_df['Description'] = pd.factorize(crimes_df[\"Description\"])[0]\n",
    "crimes_df['Location Description'] = pd.factorize(crimes_df[\"Location Description\"])[0]\n",
    "\n"
   ]
  },
  {
   "cell_type": "code",
   "execution_count": 119,
   "metadata": {},
   "outputs": [
    {
     "data": {
      "image/png": "[encoded data removed]",
      "text/plain": [
       "<Figure size 1008x720 with 1 Axes>"
      ]
     },
     "metadata": {
      "needs_background": "light"
     },
     "output_type": "display_data"
    }
   ],
   "source": [
    "# Plot Bar Chart visualize Primary Types\n",
    "plt.figure(figsize=(14,10))\n",
    "plt.title('Amount of Crimes by Primary Type')\n",
    "plt.ylabel('Crime Type')\n",
    "plt.xlabel('Amount of Crimes')\n",
    "\n",
    "crimes_df.groupby([crimes_df['Primary Type']]).size().sort_values(ascending=True).plot(kind='barh')\n",
    "\n",
    "plt.show()"
   ]
  },
  {
   "cell_type": "code",
   "execution_count": 120,
   "metadata": {},
   "outputs": [
    {
     "data": {
      "text/html": [
       "<div>\n",
       "<style scoped>\n",
       "    .dataframe tbody tr th:only-of-type {\n",
       "        vertical-align: middle;\n",
       "    }\n",
       "\n",
       "    .dataframe tbody tr th {\n",
       "        vertical-align: top;\n",
       "    }\n",
       "\n",
       "    .dataframe thead th {\n",
       "        text-align: right;\n",
       "    }\n",
       "</style>\n",
       "<table border=\"1\" class=\"dataframe\">\n",
       "  <thead>\n",
       "    <tr style=\"text-align: right;\">\n",
       "      <th></th>\n",
       "      <th>Primary Type</th>\n",
       "      <th>Amt</th>\n",
       "    </tr>\n",
       "  </thead>\n",
       "  <tbody>\n",
       "    <tr>\n",
       "      <th>11</th>\n",
       "      <td>OFFENSE INVOLVING CHILDREN</td>\n",
       "      <td>3</td>\n",
       "    </tr>\n",
       "    <tr>\n",
       "      <th>9</th>\n",
       "      <td>MOTOR VEHICLE THEFT</td>\n",
       "      <td>3</td>\n",
       "    </tr>\n",
       "    <tr>\n",
       "      <th>12</th>\n",
       "      <td>OTHER NARCOTIC VIOLATION</td>\n",
       "      <td>2</td>\n",
       "    </tr>\n",
       "    <tr>\n",
       "      <th>14</th>\n",
       "      <td>PUBLIC PEACE VIOLATION</td>\n",
       "      <td>2</td>\n",
       "    </tr>\n",
       "    <tr>\n",
       "      <th>8</th>\n",
       "      <td>INTERFERENCE WITH PUBLIC OFFICER</td>\n",
       "      <td>1</td>\n",
       "    </tr>\n",
       "    <tr>\n",
       "      <th>7</th>\n",
       "      <td>HOMICIDE</td>\n",
       "      <td>1</td>\n",
       "    </tr>\n",
       "    <tr>\n",
       "      <th>3</th>\n",
       "      <td>BURGLARY</td>\n",
       "      <td>1</td>\n",
       "    </tr>\n",
       "    <tr>\n",
       "      <th>15</th>\n",
       "      <td>ROBBERY</td>\n",
       "      <td>1</td>\n",
       "    </tr>\n",
       "    <tr>\n",
       "      <th>16</th>\n",
       "      <td>SEX OFFENSE</td>\n",
       "      <td>1</td>\n",
       "    </tr>\n",
       "    <tr>\n",
       "      <th>0</th>\n",
       "      <td>ARSON</td>\n",
       "      <td>1</td>\n",
       "    </tr>\n",
       "  </tbody>\n",
       "</table>\n",
       "</div>"
      ],
      "text/plain": [
       "                        Primary Type  Amt\n",
       "11        OFFENSE INVOLVING CHILDREN    3\n",
       "9                MOTOR VEHICLE THEFT    3\n",
       "12          OTHER NARCOTIC VIOLATION    2\n",
       "14            PUBLIC PEACE VIOLATION    2\n",
       "8   INTERFERENCE WITH PUBLIC OFFICER    1\n",
       "7                           HOMICIDE    1\n",
       "3                           BURGLARY    1\n",
       "15                           ROBBERY    1\n",
       "16                       SEX OFFENSE    1\n",
       "0                              ARSON    1"
      ]
     },
     "execution_count": 120,
     "metadata": {},
     "output_type": "execute_result"
    }
   ],
   "source": [
    "# The previous plot shows a lot of crimes that happen rarely\n",
    "# Therefore, we are going to group several less occured Crime Type into 'Others' to reduce the Target Class amount\n",
    "\n",
    "# First, we sum up the amount of Crime Type happened and select the last 13 classes\n",
    "all_classes = crimes_df.groupby(['Primary Type'])['Block'].size().reset_index()\n",
    "all_classes['Amt'] = all_classes['Block']\n",
    "all_classes = all_classes.drop(['Block'], axis=1)\n",
    "all_classes = all_classes.sort_values(['Amt'], ascending=[False])\n",
    "\n",
    "unwanted_classes = all_classes.tail(10)\n",
    "unwanted_classes"
   ]
  },
  {
   "cell_type": "code",
   "execution_count": 121,
   "metadata": {},
   "outputs": [
    {
     "data": {
      "image/png": "[encoded data removed]",
      "text/plain": [
       "<Figure size 1008x720 with 1 Axes>"
      ]
     },
     "metadata": {
      "needs_background": "light"
     },
     "output_type": "display_data"
    }
   ],
   "source": [
    "# Replace these small classes with label 'OTHER OFFENSE'\n",
    "crimes_df.loc[crimes_df['Primary Type'].isin(unwanted_classes['Primary Type']), 'Primary Type'] = 'OTHER OFFENSE'\n",
    "\n",
    "# Graph again to see that it's cleaned up\n",
    "# Plot Bar Chart visualize Primary Types\n",
    "plt.figure(figsize=(14,10))\n",
    "plt.title('Amount of Crimes by Primary Type')\n",
    "plt.ylabel('Crime Type')\n",
    "plt.xlabel('Amount of Crimes')\n",
    "\n",
    "crimes_df.groupby([crimes_df['Primary Type']]).size().sort_values(ascending=True).plot(kind='barh')\n",
    "\n",
    "plt.show()\n"
   ]
  },
  {
   "cell_type": "code",
   "execution_count": 26,
   "metadata": {},
   "outputs": [
    {
     "name": "stdout",
     "output_type": "stream",
     "text": [
      "Primary Type  Day       \n",
      "ARSON         2019-07-22    1\n",
      "ASSAULT       2019-01-06    1\n",
      "              2019-01-27    1\n",
      "              2019-05-17    1\n",
      "              2019-06-03    1\n",
      "                           ..\n",
      "THEFT         2019-12-27    3\n",
      "              2019-12-28    6\n",
      "              2019-12-29    4\n",
      "              2019-12-30    2\n",
      "              2019-12-31    3\n",
      "Name: Date, Length: 640, dtype: int64\n",
      "         ID Case Number                    Date                Block  IUCR  \\\n",
      "0  12166069    JD367698  02/01/2019 09:00:00 AM   038XX N KEDZIE AVE  1153   \n",
      "1  12165613    JD367042  08/20/2019 01:00:00 PM     054XX N BROADWAY   890   \n",
      "2  12165481    JD366983  08/13/2019 10:00:00 AM  060XX S SANGAMON ST  1153   \n",
      "3  11786897    JC346780  07/13/2019 09:00:00 AM   001XX N PULASKI RD  2014   \n",
      "4  11882608    JC491836  10/30/2019 10:25:00 AM  033XX W FILLMORE ST  1812   \n",
      "\n",
      "         Primary Type                              Description  \\\n",
      "0  DECEPTIVE PRACTICE      FINANCIAL IDENTITY THEFT OVER $ 300   \n",
      "1               THEFT                            FROM BUILDING   \n",
      "2  DECEPTIVE PRACTICE      FINANCIAL IDENTITY THEFT OVER $ 300   \n",
      "3           NARCOTICS  MANUFACTURE / DELIVER -  HEROIN (WHITE)   \n",
      "4           NARCOTICS    POSSESS - CANNABIS MORE THAN 30 GRAMS   \n",
      "\n",
      "                    Location Description  Beat  District  Gnome  Flamingo  \\\n",
      "0                              RESIDENCE  1733        17  False     False   \n",
      "1              NURSING / RETIREMENT HOME  2013        20  False     False   \n",
      "2                              RESIDENCE   712         7  False     False   \n",
      "3                               SIDEWALK  1114        11  False     False   \n",
      "4  POLICE FACILITY / VEHICLE PARKING LOT  1134        11  False     False   \n",
      "\n",
      "   Month         Day  Week  \n",
      "0      2  2019-02-01     5  \n",
      "1      8  2019-08-20    34  \n",
      "2      8  2019-08-13    33  \n",
      "3      7  2019-07-13    28  \n",
      "4     10  2019-10-30    44  \n"
     ]
    },
    {
     "name": "stderr",
     "output_type": "stream",
     "text": [
      "/home/pauline/.local/lib/python3.6/site-packages/ipykernel_launcher.py:8: FutureWarning: weekofyear and week have been deprecated, please use DatetimeIndex.isocalendar().week instead, which returns a Series.  To exactly reproduce the behavior of week and weekofyear and return an Index, you may call pd.Int64Index(idx.isocalendar().week)\n",
      "  \n"
     ]
    }
   ],
   "source": [
    "#Using Pearson Correlation\n",
    "#plt.figure(figsize=(20,10))\n",
    "import datetime\n",
    "\n",
    "crimes_df[\"Month\"] = pd.DatetimeIndex(crimes_df['Date']).month\n",
    "crimes_df[\"Day\"] = pd.DatetimeIndex (crimes_df['Date']).date # month + \"-\" + pd.DatetimeIndex (crimes_df['Date']).day\n",
    "#print (crimes_df[\"Day\"])\n",
    "crimes_df[\"Week\"] = pd.DatetimeIndex (crimes_df['Date']).week\n",
    "\n",
    "daily_crime_counts = crimes_df.groupby([\"Primary Type\", 'Day']).Date.count()\n",
    "print (daily_crime_counts)\n",
    "\n",
    "print (crimes_df.head())"
   ]
  },
  {
   "cell_type": "code",
   "execution_count": 28,
   "metadata": {},
   "outputs": [
    {
     "name": "stdout",
     "output_type": "stream",
     "text": [
      "       ID  Case Number  Date  Block  IUCR  Primary Type  Description  \\\n",
      "Month                                                                  \n",
      "1       2            2     2      2     2             2            2   \n",
      "2       5            5     5      5     5             5            5   \n",
      "3       3            3     3      3     3             3            3   \n",
      "4       1            1     1      1     1             1            1   \n",
      "5       6            6     6      6     6             6            6   \n",
      "6       7            7     7      7     7             7            7   \n",
      "7       9            9     9      9     9             9            9   \n",
      "8      12           12    12     12    12            12           12   \n",
      "9       7            7     7      7     7             7            7   \n",
      "10      8            8     8      8     8             8            8   \n",
      "11      5            5     5      5     5             5            5   \n",
      "12      2            2     2      2     2             2            2   \n",
      "\n",
      "       Location Description  Beat  District  Gnome  Flamingo  Day  Week  \n",
      "Month                                                                    \n",
      "1                         2     2         2      2         2    2     2  \n",
      "2                         5     5         5      5         5    5     5  \n",
      "3                         3     3         3      3         3    3     3  \n",
      "4                         1     1         1      1         1    1     1  \n",
      "5                         6     6         6      6         6    6     6  \n",
      "6                         7     7         7      7         7    7     7  \n",
      "7                         9     9         9      9         9    9     9  \n",
      "8                        12    12        12     12        12   12    12  \n",
      "9                         7     7         7      7         7    7     7  \n",
      "10                        8     8         8      8         8    8     8  \n",
      "11                        5     5         5      5         5    5     5  \n",
      "12                        2     2         2      2         2    2     2  \n"
     ]
    }
   ],
   "source": [
    "crimes_df_small = crimes_df[crimes_df[\"Primary Type\"] == \"CRIMINAL DAMAGE\"]\n",
    "\n",
    "weekly_crime_counts = crimes_df_small.groupby([\"Month\"]).count()\n",
    "print (weekly_crime_counts)"
   ]
  },
  {
   "cell_type": "code",
   "execution_count": 37,
   "metadata": {},
   "outputs": [
    {
     "name": "stdout",
     "output_type": "stream",
     "text": [
      "           ID Case Number                    Date                   Block  \\\n",
      "484  11814251    JC416265  08/28/2019 10:30:00 PM     049XX N LINCOLN AVE   \n",
      "505  11805316    JC405524  08/22/2019 10:00:00 PM       020XX W NORTH AVE   \n",
      "506  11805318    JC405523  08/21/2019 11:00:00 PM       020XX W NORTH AVE   \n",
      "508  11807516    JC408192  08/15/2019 03:00:00 PM       027XX W DEVON AVE   \n",
      "513  11799855    JC399095  08/19/2019 12:30:00 AM        014XX W LUNT AVE   \n",
      "514  11799873    JC399093  08/19/2019 12:30:00 AM    070XX N GLENWOOD AVE   \n",
      "518  11799840    JC399085  08/18/2019 12:19:00 AM       013XX W MORSE AVE   \n",
      "529  11795602    JC393994  08/14/2019 05:10:00 PM     020XX W DIVISION ST   \n",
      "549  11791320    JC384407  08/08/2019 01:08:00 AM  027XX N MARSHFIELD AVE   \n",
      "550  11786391    JC382159  08/07/2019 12:00:00 AM       0000X E WACKER DR   \n",
      "552  11790907    JC387963  08/07/2019 10:00:00 PM      030XX W WILSON AVE   \n",
      "556  11784405    JC380665  08/05/2019 03:00:00 PM  0000X W IDA B WELLS DR   \n",
      "\n",
      "     IUCR     Primary Type          Description  \\\n",
      "484  1320  CRIMINAL DAMAGE           TO VEHICLE   \n",
      "505  1320  CRIMINAL DAMAGE           TO VEHICLE   \n",
      "506  1320  CRIMINAL DAMAGE           TO VEHICLE   \n",
      "508  1320  CRIMINAL DAMAGE           TO VEHICLE   \n",
      "513  1305  CRIMINAL DAMAGE  CRIMINAL DEFACEMENT   \n",
      "514  1310  CRIMINAL DAMAGE          TO PROPERTY   \n",
      "518  1310  CRIMINAL DAMAGE          TO PROPERTY   \n",
      "529  1320  CRIMINAL DAMAGE           TO VEHICLE   \n",
      "549  1320  CRIMINAL DAMAGE           TO VEHICLE   \n",
      "550  1305  CRIMINAL DAMAGE  CRIMINAL DEFACEMENT   \n",
      "552  1310  CRIMINAL DAMAGE          TO PROPERTY   \n",
      "556  1320  CRIMINAL DAMAGE           TO VEHICLE   \n",
      "\n",
      "              Location Description  Beat  District  Gnome  Flamingo  Month  \\\n",
      "484                         STREET  2031        20  False     False      8   \n",
      "505  RESIDENTIAL YARD (FRONT/BACK)  1424        14  False     False      8   \n",
      "506  RESIDENTIAL YARD (FRONT/BACK)  1424        14  False     False      8   \n",
      "508                           BANK  2412        24  False     False      8   \n",
      "513                          OTHER  2423        24  False     False      8   \n",
      "514                VACANT LOT/LAND  2423        24  False     False      8   \n",
      "518                      APARTMENT  2431        24  False     False      8   \n",
      "529                         STREET  1424        14  False     False      8   \n",
      "549                         STREET  1931        19  False     False      8   \n",
      "550   COMMERCIAL / BUSINESS OFFICE   111         1  False     False      8   \n",
      "552                      APARTMENT  1724        17  False     False      8   \n",
      "556                         STREET   121         1  False     False      8   \n",
      "\n",
      "            Day  Week  \n",
      "484  2019-08-28    35  \n",
      "505  2019-08-22    34  \n",
      "506  2019-08-21    34  \n",
      "508  2019-08-15    33  \n",
      "513  2019-08-19    34  \n",
      "514  2019-08-19    34  \n",
      "518  2019-08-18    33  \n",
      "529  2019-08-14    33  \n",
      "549  2019-08-08    32  \n",
      "550  2019-08-07    32  \n",
      "552  2019-08-07    32  \n",
      "556  2019-08-05    32  \n"
     ]
    }
   ],
   "source": [
    "tmp = crimes_df_small[crimes_df_small[\"Month\"] == 8]\n",
    "print (tmp)"
   ]
  },
  {
   "cell_type": "code",
   "execution_count": null,
   "metadata": {},
   "outputs": [],
   "source": []
  },
  {
   "cell_type": "code",
   "execution_count": 122,
   "metadata": {},
   "outputs": [
    {
     "name": "stdout",
     "output_type": "stream",
     "text": [
      "737\n",
      "           ID Case Number                    Date                   Block  \\\n",
      "79   11934092    JC561644  12/27/2019 12:15:00 AM  019XX W IRVING PARK RD   \n",
      "166  11912644    JC535068  12/04/2019 12:30:00 PM    020XX W JACKSON BLVD   \n",
      "201  11904859    JC526988  11/26/2019 07:00:00 PM      054XX S KEDZIE AVE   \n",
      "233  11895525    JC515318  11/16/2019 04:30:00 AM    038XX W LEXINGTON ST   \n",
      "237  11892568    JC511813  11/15/2019 05:10:00 PM   006XX W DIVERSEY PKWY   \n",
      "\n",
      "     IUCR          Description            Location Description  Beat  \\\n",
      "79   1305  CRIMINAL DEFACEMENT                       RESIDENCE  1912   \n",
      "166  1320           TO VEHICLE                          STREET  1225   \n",
      "201  1320           TO VEHICLE                          STREET   822   \n",
      "233  1310          TO PROPERTY                       APARTMENT  1133   \n",
      "237  1320           TO VEHICLE  PARKING LOT/GARAGE(NON.RESID.)  1935   \n",
      "\n",
      "     District  Gnome  Flamingo  \n",
      "79         19  False     False  \n",
      "166        12  False     False  \n",
      "201         8  False     False  \n",
      "233        11  False     False  \n",
      "237        19  False     False  \n"
     ]
    },
    {
     "data": {
      "image/png": "[encoded data removed]",
      "text/plain": [
       "<Figure size 432x288 with 2 Axes>"
      ]
     },
     "metadata": {
      "needs_background": "light"
     },
     "output_type": "display_data"
    }
   ],
   "source": [
    "\n",
    "\n",
    "\n",
    "crimes_df_small = crimes_df_small.drop(['Primary Type'], axis=1)\n",
    "print (crimes_df_small.size)\n",
    "print(crimes_df_small.head())\n",
    "cor = crimes_df_small.corr()\n",
    "sns.heatmap(cor, annot=True, cmap=plt.cm.Reds)\n",
    "plt.show()"
   ]
  },
  {
   "cell_type": "code",
   "execution_count": null,
   "metadata": {},
   "outputs": [],
   "source": []
  },
  {
   "cell_type": "code",
   "execution_count": 67,
   "metadata": {},
   "outputs": [],
   "source": [
    "#Encode target labels into categorical variables:\n",
    "#crimes_df['Primary Type'] = pd.factorize(crimes_df[\"Primary Type\"])[0] \n",
    "#crimes_df['Primary Type'].unique()"
   ]
  },
  {
   "cell_type": "code",
   "execution_count": 68,
   "metadata": {},
   "outputs": [],
   "source": [
    "# Feature Selection using Filter Method \n",
    "# Split Dataframe to target class and features\n",
    "#X_fs = crimes_df.drop(['Primary Type'], axis=1)\n",
    "#Y_fs = crimes_df['Primary Type']"
   ]
  },
  {
   "cell_type": "code",
   "execution_count": null,
   "metadata": {},
   "outputs": [],
   "source": []
  },
  {
   "cell_type": "code",
   "execution_count": null,
   "metadata": {},
   "outputs": [],
   "source": []
  },
  {
   "cell_type": "code",
   "execution_count": null,
   "metadata": {},
   "outputs": [],
   "source": []
  }
 ],
 "metadata": {
  "kernelspec": {
   "display_name": "Python 3",
   "language": "python",
   "name": "python3"
  },
  "language_info": {
   "codemirror_mode": {
    "name": "ipython",
    "version": 3
   },
   "file_extension": ".py",
   "mimetype": "text/x-python",
   "name": "python",
   "nbconvert_exporter": "python",
   "pygments_lexer": "ipython3",
   "version": "3.6.9"
  }
 },
 "nbformat": 4,
 "nbformat_minor": 4
}
